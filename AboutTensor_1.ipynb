{
  "nbformat": 4,
  "nbformat_minor": 0,
  "metadata": {
    "colab": {
      "name": "AboutTensor_1.ipynb",
      "provenance": [],
      "collapsed_sections": [],
      "authorship_tag": "ABX9TyPB2hkdaUkSdS6q/4nuVP8k",
      "include_colab_link": true
    },
    "kernelspec": {
      "name": "python3",
      "display_name": "Python 3"
    }
  },
  "cells": [
    {
      "cell_type": "markdown",
      "metadata": {
        "id": "view-in-github",
        "colab_type": "text"
      },
      "source": [
        "<a href=\"https://colab.research.google.com/github/RogerHeederer/PyTorchNLPBook/blob/master/AboutTensor_1.ipynb\" target=\"_parent\"><img src=\"https://colab.research.google.com/assets/colab-badge.svg\" alt=\"Open In Colab\"/></a>"
      ]
    },
    {
      "cell_type": "code",
      "metadata": {
        "colab": {
          "base_uri": "https://localhost:8080/"
        },
        "id": "oAlQEpZVLhny",
        "outputId": "d1a598ad-b5af-4568-95a9-9f7eea438ca5"
      },
      "source": [
        "import torch\n",
        "import numpy as np\n",
        "torch.manual_seed(1234)"
      ],
      "execution_count": 1,
      "outputs": [
        {
          "output_type": "execute_result",
          "data": {
            "text/plain": [
              "<torch._C.Generator at 0x7f61fe1e6b70>"
            ]
          },
          "metadata": {
            "tags": []
          },
          "execution_count": 1
        }
      ]
    },
    {
      "cell_type": "markdown",
      "metadata": {
        "id": "fhGV9o9LLwyv"
      },
      "source": [
        "## Tensors\n",
        "* 스칼라는 싱글 넘버이다\n",
        "* 벡터는 숫자들의 어레이다\n",
        "* 매트릭스는 숫자들로 이루어진 2D 어레이다.\n",
        "* 텐서들은 숫자들로 이루어진 N-D 어레이다."
      ]
    },
    {
      "cell_type": "code",
      "metadata": {
        "id": "cMbJbsJCNe4L"
      },
      "source": [
        ""
      ],
      "execution_count": 1,
      "outputs": []
    },
    {
      "cell_type": "markdown",
      "metadata": {
        "id": "ND7FMTANNfT3"
      },
      "source": [
        "*텐서 생성하는 여러 방법*"
      ]
    },
    {
      "cell_type": "code",
      "metadata": {
        "id": "AgHy4SeULnjS"
      },
      "source": [
        "# 텐서 생성\n",
        "def describe(x): #텐서 부가 설명 함수\n",
        "  print(\"Type: {}\".format(x.type()))\n",
        "  print(\"Shape/size: {}\".format(x.shape))\n",
        "  print(\"Values: \\n{}\".format(x))"
      ],
      "execution_count": 2,
      "outputs": []
    },
    {
      "cell_type": "code",
      "metadata": {
        "colab": {
          "base_uri": "https://localhost:8080/"
        },
        "id": "jNopvNN4Mbwy",
        "outputId": "2a9fe47f-9e2f-4ca3-e50c-15ed2ce2655a"
      },
      "source": [
        "describe(torch.Tensor(2, 3))"
      ],
      "execution_count": 3,
      "outputs": [
        {
          "output_type": "stream",
          "text": [
            "Type: torch.FloatTensor\n",
            "Shape/size: torch.Size([2, 3])\n",
            "Values: \n",
            "tensor([[3.1876e-36, 0.0000e+00, 3.7835e-44],\n",
            "        [0.0000e+00,        nan, 0.0000e+00]])\n"
          ],
          "name": "stdout"
        }
      ]
    },
    {
      "cell_type": "code",
      "metadata": {
        "colab": {
          "base_uri": "https://localhost:8080/"
        },
        "id": "Bu6xfurIMgHt",
        "outputId": "e380ffbb-4da2-4468-d0f1-28cce10eaa4e"
      },
      "source": [
        "describe(torch.randn(2,3)) #random normal"
      ],
      "execution_count": 4,
      "outputs": [
        {
          "output_type": "stream",
          "text": [
            "Type: torch.FloatTensor\n",
            "Shape/size: torch.Size([2, 3])\n",
            "Values: \n",
            "tensor([[ 0.0461,  0.4024, -1.0115],\n",
            "        [ 0.2167, -0.6123,  0.5036]])\n"
          ],
          "name": "stdout"
        }
      ]
    },
    {
      "cell_type": "code",
      "metadata": {
        "colab": {
          "base_uri": "https://localhost:8080/"
        },
        "id": "-IK_AeqaMmdk",
        "outputId": "f5fe1045-732c-4e91-f700-a9cfa85569d1"
      },
      "source": [
        "describe(torch.rand(2,3)) #uniform random"
      ],
      "execution_count": 5,
      "outputs": [
        {
          "output_type": "stream",
          "text": [
            "Type: torch.FloatTensor\n",
            "Shape/size: torch.Size([2, 3])\n",
            "Values: \n",
            "tensor([[0.7749, 0.8208, 0.2793],\n",
            "        [0.6817, 0.2837, 0.6567]])\n"
          ],
          "name": "stdout"
        }
      ]
    },
    {
      "cell_type": "code",
      "metadata": {
        "colab": {
          "base_uri": "https://localhost:8080/"
        },
        "id": "y8V3QoekMy3k",
        "outputId": "146b10fc-cb10-49f4-ca39-7acb06e4a5d0"
      },
      "source": [
        "describe(torch.zeros(2,3))"
      ],
      "execution_count": 6,
      "outputs": [
        {
          "output_type": "stream",
          "text": [
            "Type: torch.FloatTensor\n",
            "Shape/size: torch.Size([2, 3])\n",
            "Values: \n",
            "tensor([[0., 0., 0.],\n",
            "        [0., 0., 0.]])\n"
          ],
          "name": "stdout"
        }
      ]
    },
    {
      "cell_type": "code",
      "metadata": {
        "colab": {
          "base_uri": "https://localhost:8080/"
        },
        "id": "XBZx7ALcM9GA",
        "outputId": "76b8b854-bf1b-4f35-f7ed-ef365c6f5d65"
      },
      "source": [
        "x = torch.ones(2,3)\n",
        "describe(x)"
      ],
      "execution_count": 7,
      "outputs": [
        {
          "output_type": "stream",
          "text": [
            "Type: torch.FloatTensor\n",
            "Shape/size: torch.Size([2, 3])\n",
            "Values: \n",
            "tensor([[1., 1., 1.],\n",
            "        [1., 1., 1.]])\n"
          ],
          "name": "stdout"
        }
      ]
    },
    {
      "cell_type": "code",
      "metadata": {
        "colab": {
          "base_uri": "https://localhost:8080/"
        },
        "id": "isA8oIOHNDSZ",
        "outputId": "c18d4d19-2247-46ac-a528-224ece25d6e5"
      },
      "source": [
        "x.fill_(5)\n",
        "describe(x)"
      ],
      "execution_count": 8,
      "outputs": [
        {
          "output_type": "stream",
          "text": [
            "Type: torch.FloatTensor\n",
            "Shape/size: torch.Size([2, 3])\n",
            "Values: \n",
            "tensor([[5., 5., 5.],\n",
            "        [5., 5., 5.]])\n"
          ],
          "name": "stdout"
        }
      ]
    },
    {
      "cell_type": "code",
      "metadata": {
        "colab": {
          "base_uri": "https://localhost:8080/"
        },
        "id": "FUOYcgCjNG2v",
        "outputId": "e8f52954-c786-4e69-ed69-c23e3604661c"
      },
      "source": [
        "x = torch.Tensor(3,4).fill_(5)\n",
        "describe(x)"
      ],
      "execution_count": 9,
      "outputs": [
        {
          "output_type": "stream",
          "text": [
            "Type: torch.FloatTensor\n",
            "Shape/size: torch.Size([3, 4])\n",
            "Values: \n",
            "tensor([[5., 5., 5., 5.],\n",
            "        [5., 5., 5., 5.],\n",
            "        [5., 5., 5., 5.]])\n"
          ],
          "name": "stdout"
        }
      ]
    },
    {
      "cell_type": "code",
      "metadata": {
        "colab": {
          "base_uri": "https://localhost:8080/"
        },
        "id": "MlPvTJfZNVEb",
        "outputId": "9ce4f4a1-a011-4d72-afc6-4edcd6ad3f6c"
      },
      "source": [
        "#리스트로부터 가져와 생성하기\n",
        "x = torch.Tensor(([1,2],\n",
        "                  [2,4]))\n",
        "describe(x)"
      ],
      "execution_count": 10,
      "outputs": [
        {
          "output_type": "stream",
          "text": [
            "Type: torch.FloatTensor\n",
            "Shape/size: torch.Size([2, 2])\n",
            "Values: \n",
            "tensor([[1., 2.],\n",
            "        [2., 4.]])\n"
          ],
          "name": "stdout"
        }
      ]
    },
    {
      "cell_type": "code",
      "metadata": {
        "colab": {
          "base_uri": "https://localhost:8080/"
        },
        "id": "2GtFFCAhNu0B",
        "outputId": "be67608d-1d9c-4742-d5e0-618930efb9c3"
      },
      "source": [
        "#numpy matrics로부터 가져와 생성하기\n",
        "npy = np.random.rand(2, 3)\n",
        "describe(torch.from_numpy(npy))\n",
        "print(npy.dtype)"
      ],
      "execution_count": 11,
      "outputs": [
        {
          "output_type": "stream",
          "text": [
            "Type: torch.DoubleTensor\n",
            "Shape/size: torch.Size([2, 3])\n",
            "Values: \n",
            "tensor([[0.6261, 0.9225, 0.3492],\n",
            "        [0.5886, 0.2870, 0.7819]], dtype=torch.float64)\n",
            "float64\n"
          ],
          "name": "stdout"
        }
      ]
    },
    {
      "cell_type": "markdown",
      "metadata": {
        "id": "gS7JxfKkOJH1"
      },
      "source": [
        "###텐서 타입과 크기###"
      ]
    },
    {
      "cell_type": "code",
      "metadata": {
        "colab": {
          "base_uri": "https://localhost:8080/"
        },
        "id": "g7zSpBUKN8Yz",
        "outputId": "a6442d51-575d-4681-9b1b-a6ebe6ba8dec"
      },
      "source": [
        "x = torch.FloatTensor([[1, 2, 3],\n",
        "                       [4, 5, 6]])\n",
        "describe(x)"
      ],
      "execution_count": 12,
      "outputs": [
        {
          "output_type": "stream",
          "text": [
            "Type: torch.FloatTensor\n",
            "Shape/size: torch.Size([2, 3])\n",
            "Values: \n",
            "tensor([[1., 2., 3.],\n",
            "        [4., 5., 6.]])\n"
          ],
          "name": "stdout"
        }
      ]
    },
    {
      "cell_type": "code",
      "metadata": {
        "colab": {
          "base_uri": "https://localhost:8080/"
        },
        "id": "KBJOEa8vObIJ",
        "outputId": "03f9a420-b27e-49f3-929f-feabb1336c47"
      },
      "source": [
        "x = x.long()\n",
        "describe(x)"
      ],
      "execution_count": 13,
      "outputs": [
        {
          "output_type": "stream",
          "text": [
            "Type: torch.LongTensor\n",
            "Shape/size: torch.Size([2, 3])\n",
            "Values: \n",
            "tensor([[1, 2, 3],\n",
            "        [4, 5, 6]])\n"
          ],
          "name": "stdout"
        }
      ]
    },
    {
      "cell_type": "code",
      "metadata": {
        "colab": {
          "base_uri": "https://localhost:8080/"
        },
        "id": "ZLiLcIX8Oejh",
        "outputId": "532f83e3-2498-43bd-b57f-39e76d048fba"
      },
      "source": [
        "x = torch.tensor([[1,2,3],\n",
        "                  [4,5,6]], dtype=torch.int64)\n",
        "describe(x)"
      ],
      "execution_count": 14,
      "outputs": [
        {
          "output_type": "stream",
          "text": [
            "Type: torch.LongTensor\n",
            "Shape/size: torch.Size([2, 3])\n",
            "Values: \n",
            "tensor([[1, 2, 3],\n",
            "        [4, 5, 6]])\n"
          ],
          "name": "stdout"
        }
      ]
    },
    {
      "cell_type": "code",
      "metadata": {
        "colab": {
          "base_uri": "https://localhost:8080/"
        },
        "id": "YGh1YmCwOprc",
        "outputId": "2414af69-4f22-408d-d77a-15f87409f964"
      },
      "source": [
        "x = x.float()\n",
        "describe(x)"
      ],
      "execution_count": 15,
      "outputs": [
        {
          "output_type": "stream",
          "text": [
            "Type: torch.FloatTensor\n",
            "Shape/size: torch.Size([2, 3])\n",
            "Values: \n",
            "tensor([[1., 2., 3.],\n",
            "        [4., 5., 6.]])\n"
          ],
          "name": "stdout"
        }
      ]
    },
    {
      "cell_type": "code",
      "metadata": {
        "colab": {
          "base_uri": "https://localhost:8080/"
        },
        "id": "SEmFn2x-Oy4R",
        "outputId": "39d0bc29-eede-434f-8077-6cf378213b30"
      },
      "source": [
        "x = torch.randn(2, 3)\n",
        "describe(x)"
      ],
      "execution_count": 16,
      "outputs": [
        {
          "output_type": "stream",
          "text": [
            "Type: torch.FloatTensor\n",
            "Shape/size: torch.Size([2, 3])\n",
            "Values: \n",
            "tensor([[ 1.5385, -0.9757,  1.5769],\n",
            "        [ 0.3840, -0.6039, -0.5240]])\n"
          ],
          "name": "stdout"
        }
      ]
    },
    {
      "cell_type": "markdown",
      "metadata": {
        "id": "mmLpTLwLSQeP"
      },
      "source": [
        "###텐서 오퍼레이션###"
      ]
    },
    {
      "cell_type": "code",
      "metadata": {
        "colab": {
          "base_uri": "https://localhost:8080/"
        },
        "id": "BZ_RtA0lPDdg",
        "outputId": "f1cbc449-1b84-40d2-aa3e-3309b16e6271"
      },
      "source": [
        "describe(torch.add(x, x))"
      ],
      "execution_count": 17,
      "outputs": [
        {
          "output_type": "stream",
          "text": [
            "Type: torch.FloatTensor\n",
            "Shape/size: torch.Size([2, 3])\n",
            "Values: \n",
            "tensor([[ 3.0771, -1.9515,  3.1539],\n",
            "        [ 0.7680, -1.2077, -1.0479]])\n"
          ],
          "name": "stdout"
        }
      ]
    },
    {
      "cell_type": "code",
      "metadata": {
        "colab": {
          "base_uri": "https://localhost:8080/"
        },
        "id": "uzhELWYrPHMO",
        "outputId": "250edd7a-d511-4374-e957-043442aa9b7e"
      },
      "source": [
        "describe(x + x)"
      ],
      "execution_count": 18,
      "outputs": [
        {
          "output_type": "stream",
          "text": [
            "Type: torch.FloatTensor\n",
            "Shape/size: torch.Size([2, 3])\n",
            "Values: \n",
            "tensor([[ 3.0771, -1.9515,  3.1539],\n",
            "        [ 0.7680, -1.2077, -1.0479]])\n"
          ],
          "name": "stdout"
        }
      ]
    },
    {
      "cell_type": "code",
      "metadata": {
        "colab": {
          "base_uri": "https://localhost:8080/"
        },
        "id": "3S-wkvLCPMBD",
        "outputId": "4efc7cc1-e93e-43ce-9e48-1e66e7b490a3"
      },
      "source": [
        "x = torch.arange(6)\n",
        "describe(x)"
      ],
      "execution_count": 19,
      "outputs": [
        {
          "output_type": "stream",
          "text": [
            "Type: torch.LongTensor\n",
            "Shape/size: torch.Size([6])\n",
            "Values: \n",
            "tensor([0, 1, 2, 3, 4, 5])\n"
          ],
          "name": "stdout"
        }
      ]
    },
    {
      "cell_type": "code",
      "metadata": {
        "colab": {
          "base_uri": "https://localhost:8080/"
        },
        "id": "cVxN15R6PqFj",
        "outputId": "aa093d6a-1a72-428e-8024-d7be757ac8c5"
      },
      "source": [
        "x = x.view(2, 3)\n",
        "describe(x)"
      ],
      "execution_count": 20,
      "outputs": [
        {
          "output_type": "stream",
          "text": [
            "Type: torch.LongTensor\n",
            "Shape/size: torch.Size([2, 3])\n",
            "Values: \n",
            "tensor([[0, 1, 2],\n",
            "        [3, 4, 5]])\n"
          ],
          "name": "stdout"
        }
      ]
    },
    {
      "cell_type": "code",
      "metadata": {
        "colab": {
          "base_uri": "https://localhost:8080/"
        },
        "id": "uC4mGtQXPtax",
        "outputId": "40177aad-4f03-4bfc-ad4e-e3f1a9b77d5a"
      },
      "source": [
        "describe(torch.sum(x, dim=0)) #가장 바깥 차원을 기준"
      ],
      "execution_count": 21,
      "outputs": [
        {
          "output_type": "stream",
          "text": [
            "Type: torch.LongTensor\n",
            "Shape/size: torch.Size([3])\n",
            "Values: \n",
            "tensor([3, 5, 7])\n"
          ],
          "name": "stdout"
        }
      ]
    },
    {
      "cell_type": "code",
      "metadata": {
        "colab": {
          "base_uri": "https://localhost:8080/"
        },
        "id": "ip6PTPnyQacC",
        "outputId": "6ac73ba6-b22d-4a38-9ad9-01119c75427f"
      },
      "source": [
        "describe(torch.sum(x, dim=1)) #그 다음 차원을 기준"
      ],
      "execution_count": 22,
      "outputs": [
        {
          "output_type": "stream",
          "text": [
            "Type: torch.LongTensor\n",
            "Shape/size: torch.Size([2])\n",
            "Values: \n",
            "tensor([ 3, 12])\n"
          ],
          "name": "stdout"
        }
      ]
    },
    {
      "cell_type": "code",
      "metadata": {
        "colab": {
          "base_uri": "https://localhost:8080/"
        },
        "id": "ph_99gc2Qj3I",
        "outputId": "c1631d2e-f819-4e6c-a84f-436ee86253aa"
      },
      "source": [
        "describe(torch.transpose(x, 0, 1)) #0 행, 1 열"
      ],
      "execution_count": 23,
      "outputs": [
        {
          "output_type": "stream",
          "text": [
            "Type: torch.LongTensor\n",
            "Shape/size: torch.Size([3, 2])\n",
            "Values: \n",
            "tensor([[0, 3],\n",
            "        [1, 4],\n",
            "        [2, 5]])\n"
          ],
          "name": "stdout"
        }
      ]
    },
    {
      "cell_type": "markdown",
      "metadata": {
        "id": "QJJ0MG7DSUIA"
      },
      "source": [
        "###텐서 indexing, slicing, joining###"
      ]
    },
    {
      "cell_type": "code",
      "metadata": {
        "colab": {
          "base_uri": "https://localhost:8080/"
        },
        "id": "OUhlFdMlRVUS",
        "outputId": "c86eb006-fbfb-4fdb-bb46-9785d6d2c00c"
      },
      "source": [
        "x = torch.arange(6).view(2,3) # arange6 -> 0~5\n",
        "describe(x)"
      ],
      "execution_count": 24,
      "outputs": [
        {
          "output_type": "stream",
          "text": [
            "Type: torch.LongTensor\n",
            "Shape/size: torch.Size([2, 3])\n",
            "Values: \n",
            "tensor([[0, 1, 2],\n",
            "        [3, 4, 5]])\n"
          ],
          "name": "stdout"
        }
      ]
    },
    {
      "cell_type": "code",
      "metadata": {
        "colab": {
          "base_uri": "https://localhost:8080/"
        },
        "id": "3wPCbpOaSgER",
        "outputId": "a362cfb1-d56f-48de-ecd9-35c96c691aa9"
      },
      "source": [
        "x[0], x[1]"
      ],
      "execution_count": 25,
      "outputs": [
        {
          "output_type": "execute_result",
          "data": {
            "text/plain": [
              "(tensor([0, 1, 2]), tensor([3, 4, 5]))"
            ]
          },
          "metadata": {
            "tags": []
          },
          "execution_count": 25
        }
      ]
    },
    {
      "cell_type": "code",
      "metadata": {
        "colab": {
          "base_uri": "https://localhost:8080/"
        },
        "id": "QdugLZ6HSrxv",
        "outputId": "d39ee2d7-fc91-47b2-8126-e223ca5f194b"
      },
      "source": [
        "x[0,0:2], x[1,0:2]"
      ],
      "execution_count": 26,
      "outputs": [
        {
          "output_type": "execute_result",
          "data": {
            "text/plain": [
              "(tensor([0, 1]), tensor([3, 4]))"
            ]
          },
          "metadata": {
            "tags": []
          },
          "execution_count": 26
        }
      ]
    },
    {
      "cell_type": "code",
      "metadata": {
        "colab": {
          "base_uri": "https://localhost:8080/"
        },
        "id": "AEbiszuQSxnH",
        "outputId": "8f3548de-2a46-4e25-f331-715b1362890e"
      },
      "source": [
        "x[0:1,0:2], x[1:2,0:2]"
      ],
      "execution_count": 27,
      "outputs": [
        {
          "output_type": "execute_result",
          "data": {
            "text/plain": [
              "(tensor([[0, 1]]), tensor([[3, 4]]))"
            ]
          },
          "metadata": {
            "tags": []
          },
          "execution_count": 27
        }
      ]
    },
    {
      "cell_type": "code",
      "metadata": {
        "colab": {
          "base_uri": "https://localhost:8080/"
        },
        "id": "CsBd_TXXS97U",
        "outputId": "8380f862-81ba-430b-8b23-34b75943d6d5"
      },
      "source": [
        "x[0:2,0:2]"
      ],
      "execution_count": 28,
      "outputs": [
        {
          "output_type": "execute_result",
          "data": {
            "text/plain": [
              "tensor([[0, 1],\n",
              "        [3, 4]])"
            ]
          },
          "metadata": {
            "tags": []
          },
          "execution_count": 28
        }
      ]
    },
    {
      "cell_type": "code",
      "metadata": {
        "colab": {
          "base_uri": "https://localhost:8080/"
        },
        "id": "Mk16Wo8LTDA4",
        "outputId": "d79d1927-e7ff-4ae6-fc6d-26feec81dc92"
      },
      "source": [
        "x[:1, :2]"
      ],
      "execution_count": 29,
      "outputs": [
        {
          "output_type": "execute_result",
          "data": {
            "text/plain": [
              "tensor([[0, 1]])"
            ]
          },
          "metadata": {
            "tags": []
          },
          "execution_count": 29
        }
      ]
    },
    {
      "cell_type": "code",
      "metadata": {
        "colab": {
          "base_uri": "https://localhost:8080/"
        },
        "id": "_lpgO26lTH4i",
        "outputId": "d4bfb258-9473-40ee-fd83-3687bda244bb"
      },
      "source": [
        "x[0, 1]"
      ],
      "execution_count": 30,
      "outputs": [
        {
          "output_type": "execute_result",
          "data": {
            "text/plain": [
              "tensor(1)"
            ]
          },
          "metadata": {
            "tags": []
          },
          "execution_count": 30
        }
      ]
    },
    {
      "cell_type": "code",
      "metadata": {
        "id": "cqj4jG84jxuH",
        "colab": {
          "base_uri": "https://localhost:8080/"
        },
        "outputId": "32a7c2e4-4462-4dc1-bf1d-7cc04199d848"
      },
      "source": [
        "x = torch.randn(3, 4)\n",
        "x"
      ],
      "execution_count": 31,
      "outputs": [
        {
          "output_type": "execute_result",
          "data": {
            "text/plain": [
              "tensor([[-0.4175,  0.7618,  0.5356,  1.5739],\n",
              "        [-0.4864, -0.6622, -0.4790,  0.8539],\n",
              "        [-0.2285,  0.3081,  1.1171,  0.1585]])"
            ]
          },
          "metadata": {
            "tags": []
          },
          "execution_count": 31
        }
      ]
    },
    {
      "cell_type": "markdown",
      "metadata": {
        "id": "rjl4y1YNnlID"
      },
      "source": [
        "dim=0, dim=1 을 이해함에 있어서 행,열 기준으로 봐야하는지 차원으로 봐야하는 지 계속 헷갈리는데,\n",
        "[[]] 이렇게 2차원이 있을 때 dim = 0은 가장 바깥쪽 []이라 생각하고 dim=1은  [ '[]' ] 여기에 '[]' 안에 있는 요소라 생각해보자\n",
        "\n",
        "그럼 dim=0으로 indices를 쓰면, 가장 바깥쪽 [ ] 안에는 [ ], [ ], [ ]  이렇게 3덩이가 들어있다\n",
        "\n",
        "여기서 0번째, 2번째꺼 빼오면 아래와 같은 결과가 나오며\n",
        "\n",
        "dim=1로 indices를 쓰면, 가장 안쪽 요소  [ ], [ ], [ ] 여기에서 0번째 2번째꺼 빼오는 식으로 생각하면 아래 결과"
      ]
    },
    {
      "cell_type": "code",
      "metadata": {
        "colab": {
          "base_uri": "https://localhost:8080/"
        },
        "id": "27BsOU15nAvR",
        "outputId": "97b9afde-a24d-46f5-8111-754e2a3f4944"
      },
      "source": [
        "indices = torch.tensor([0,2])\n",
        "torch.index_select(x, 0, indices) # x를 가져와 dim=0을 기준으로 index는 indces를 사용한다."
      ],
      "execution_count": 32,
      "outputs": [
        {
          "output_type": "execute_result",
          "data": {
            "text/plain": [
              "tensor([[-0.4175,  0.7618,  0.5356,  1.5739],\n",
              "        [-0.2285,  0.3081,  1.1171,  0.1585]])"
            ]
          },
          "metadata": {
            "tags": []
          },
          "execution_count": 32
        }
      ]
    },
    {
      "cell_type": "code",
      "metadata": {
        "colab": {
          "base_uri": "https://localhost:8080/"
        },
        "id": "XW83oGkYnNEj",
        "outputId": "b3cdcd4e-b8b3-4e9f-d574-69cefb96cc37"
      },
      "source": [
        "torch.index_select(x, 1, indices)# x를 가져와 dim=1을 기준으로 index는 indces를 사용한다."
      ],
      "execution_count": 33,
      "outputs": [
        {
          "output_type": "execute_result",
          "data": {
            "text/plain": [
              "tensor([[-0.4175,  0.5356],\n",
              "        [-0.4864, -0.4790],\n",
              "        [-0.2285,  1.1171]])"
            ]
          },
          "metadata": {
            "tags": []
          },
          "execution_count": 33
        }
      ]
    },
    {
      "cell_type": "code",
      "metadata": {
        "id": "5A83SF5kncjP",
        "colab": {
          "base_uri": "https://localhost:8080/"
        },
        "outputId": "3882c5ff-0ff8-4915-da56-6bbfd73f1a79"
      },
      "source": [
        "row_indices = torch.arange(2).long()\n",
        "col_indices = torch.LongTensor([0,1])\n",
        "row_indices, col_indices"
      ],
      "execution_count": 38,
      "outputs": [
        {
          "output_type": "execute_result",
          "data": {
            "text/plain": [
              "(tensor([0, 1]), tensor([0, 1]))"
            ]
          },
          "metadata": {
            "tags": []
          },
          "execution_count": 38
        }
      ]
    },
    {
      "cell_type": "code",
      "metadata": {
        "colab": {
          "base_uri": "https://localhost:8080/"
        },
        "id": "RCZ1FzK7sIAe",
        "outputId": "4c64531a-c0df-4809-aa17-0d6d1d40a81a"
      },
      "source": [
        "describe(x[row_indices, col_indices])"
      ],
      "execution_count": 39,
      "outputs": [
        {
          "output_type": "stream",
          "text": [
            "Type: torch.FloatTensor\n",
            "Shape/size: torch.Size([2])\n",
            "Values: \n",
            "tensor([-0.4175, -0.6622])\n"
          ],
          "name": "stdout"
        }
      ]
    },
    {
      "cell_type": "code",
      "metadata": {
        "colab": {
          "base_uri": "https://localhost:8080/"
        },
        "id": "UCv2jMfqsJRl",
        "outputId": "89689930-4321-46dd-8526-5455222a7fca"
      },
      "source": [
        "x = torch.LongTensor(([1, 2, 3],\n",
        "                      [4, 5, 6],\n",
        "                      [7, 8, 9]))\n",
        "\n",
        "describe(x)\n",
        "print(x.dtype)\n",
        "print(x.numpy().dtype)"
      ],
      "execution_count": 40,
      "outputs": [
        {
          "output_type": "stream",
          "text": [
            "Type: torch.LongTensor\n",
            "Shape/size: torch.Size([3, 3])\n",
            "Values: \n",
            "tensor([[1, 2, 3],\n",
            "        [4, 5, 6],\n",
            "        [7, 8, 9]])\n",
            "torch.int64\n",
            "int64\n"
          ],
          "name": "stdout"
        }
      ]
    },
    {
      "cell_type": "code",
      "metadata": {
        "colab": {
          "base_uri": "https://localhost:8080/"
        },
        "id": "mYgbVStxt0Au",
        "outputId": "76d7eac3-06f5-49a6-e3ab-8a95bc419f37"
      },
      "source": [
        "x = torch.FloatTensor(([1, 2, 3],\n",
        "                      [4, 5, 6],\n",
        "                      [7, 8, 9]))\n",
        "\n",
        "describe(x)"
      ],
      "execution_count": 41,
      "outputs": [
        {
          "output_type": "stream",
          "text": [
            "Type: torch.FloatTensor\n",
            "Shape/size: torch.Size([3, 3])\n",
            "Values: \n",
            "tensor([[1., 2., 3.],\n",
            "        [4., 5., 6.],\n",
            "        [7., 8., 9.]])\n"
          ],
          "name": "stdout"
        }
      ]
    },
    {
      "cell_type": "code",
      "metadata": {
        "colab": {
          "base_uri": "https://localhost:8080/"
        },
        "id": "RpEznGHjuBxK",
        "outputId": "397347d3-c965-412b-b885-786ce4e6e3bb"
      },
      "source": [
        "x = x.long()\n",
        "describe(x)"
      ],
      "execution_count": 42,
      "outputs": [
        {
          "output_type": "stream",
          "text": [
            "Type: torch.LongTensor\n",
            "Shape/size: torch.Size([3, 3])\n",
            "Values: \n",
            "tensor([[1, 2, 3],\n",
            "        [4, 5, 6],\n",
            "        [7, 8, 9]])\n"
          ],
          "name": "stdout"
        }
      ]
    },
    {
      "cell_type": "code",
      "metadata": {
        "colab": {
          "base_uri": "https://localhost:8080/"
        },
        "id": "ZBeogIFnuEqg",
        "outputId": "6cfe8a7e-6917-4f1d-ea34-6e9b338ac9d5"
      },
      "source": [
        "x = torch.arange(0, 10)\n",
        "print(x)"
      ],
      "execution_count": 43,
      "outputs": [
        {
          "output_type": "stream",
          "text": [
            "tensor([0, 1, 2, 3, 4, 5, 6, 7, 8, 9])\n"
          ],
          "name": "stdout"
        }
      ]
    },
    {
      "cell_type": "code",
      "metadata": {
        "colab": {
          "base_uri": "https://localhost:8080/"
        },
        "id": "PsYTIC_jvom9",
        "outputId": "a0543c73-9835-426b-b196-1ea3c84b5c73"
      },
      "source": [
        "x = torch.arange(0, 10).long()\n",
        "print(x)"
      ],
      "execution_count": 45,
      "outputs": [
        {
          "output_type": "stream",
          "text": [
            "tensor([0, 1, 2, 3, 4, 5, 6, 7, 8, 9])\n"
          ],
          "name": "stdout"
        }
      ]
    },
    {
      "cell_type": "markdown",
      "metadata": {
        "id": "UtaOW-Cfv0vf"
      },
      "source": [
        "## Tensor Operation"
      ]
    },
    {
      "cell_type": "code",
      "metadata": {
        "id": "0HQg3jplvvGb"
      },
      "source": [
        "x = torch.arange(0, 20)"
      ],
      "execution_count": 46,
      "outputs": []
    },
    {
      "cell_type": "code",
      "metadata": {
        "colab": {
          "base_uri": "https://localhost:8080/"
        },
        "id": "8aS8iDkXv7rj",
        "outputId": "1afe6d35-a074-4d7d-e931-09eb901507be"
      },
      "source": [
        "x"
      ],
      "execution_count": 47,
      "outputs": [
        {
          "output_type": "execute_result",
          "data": {
            "text/plain": [
              "tensor([ 0,  1,  2,  3,  4,  5,  6,  7,  8,  9, 10, 11, 12, 13, 14, 15, 16, 17,\n",
              "        18, 19])"
            ]
          },
          "metadata": {
            "tags": []
          },
          "execution_count": 47
        }
      ]
    },
    {
      "cell_type": "code",
      "metadata": {
        "colab": {
          "base_uri": "https://localhost:8080/"
        },
        "id": "aftQR1QZv8hU",
        "outputId": "d5dd8595-9958-4cd5-dabd-4e7e541d5108"
      },
      "source": [
        "print(x.view(1,20)) # dimension이 하나 추가된다"
      ],
      "execution_count": 48,
      "outputs": [
        {
          "output_type": "stream",
          "text": [
            "tensor([[ 0,  1,  2,  3,  4,  5,  6,  7,  8,  9, 10, 11, 12, 13, 14, 15, 16, 17,\n",
            "         18, 19]])\n"
          ],
          "name": "stdout"
        }
      ]
    },
    {
      "cell_type": "code",
      "metadata": {
        "colab": {
          "base_uri": "https://localhost:8080/"
        },
        "id": "SFuW6g8Iv_Rz",
        "outputId": "1f6242da-37f0-46b9-ba5c-82aa34a0058d"
      },
      "source": [
        "print(x.view(2,10))"
      ],
      "execution_count": 49,
      "outputs": [
        {
          "output_type": "stream",
          "text": [
            "tensor([[ 0,  1,  2,  3,  4,  5,  6,  7,  8,  9],\n",
            "        [10, 11, 12, 13, 14, 15, 16, 17, 18, 19]])\n"
          ],
          "name": "stdout"
        }
      ]
    },
    {
      "cell_type": "code",
      "metadata": {
        "colab": {
          "base_uri": "https://localhost:8080/"
        },
        "id": "CauqQBMGwBng",
        "outputId": "19cd2da2-b702-408c-d1af-a132cf2ccd67"
      },
      "source": [
        "x = torch.arange(12).view(3,4)\n",
        "print(x)"
      ],
      "execution_count": 51,
      "outputs": [
        {
          "output_type": "stream",
          "text": [
            "tensor([[ 0,  1,  2,  3],\n",
            "        [ 4,  5,  6,  7],\n",
            "        [ 8,  9, 10, 11]])\n"
          ],
          "name": "stdout"
        }
      ]
    },
    {
      "cell_type": "code",
      "metadata": {
        "colab": {
          "base_uri": "https://localhost:8080/"
        },
        "id": "GnoMBZmxwTEq",
        "outputId": "4ac96977-4397-4a1d-f975-ee44de06a5db"
      },
      "source": [
        "y = torch.arange(4).view(1,4)\n",
        "print(y)"
      ],
      "execution_count": 53,
      "outputs": [
        {
          "output_type": "stream",
          "text": [
            "tensor([[0, 1, 2, 3]])\n"
          ],
          "name": "stdout"
        }
      ]
    },
    {
      "cell_type": "code",
      "metadata": {
        "colab": {
          "base_uri": "https://localhost:8080/"
        },
        "id": "hO4vy_qHwbbk",
        "outputId": "fa51c507-86d2-4dfd-e99c-1fe26c21e33a"
      },
      "source": [
        "print(x+y) #broadcasting"
      ],
      "execution_count": 54,
      "outputs": [
        {
          "output_type": "stream",
          "text": [
            "tensor([[ 0,  2,  4,  6],\n",
            "        [ 4,  6,  8, 10],\n",
            "        [ 8, 10, 12, 14]])\n"
          ],
          "name": "stdout"
        }
      ]
    },
    {
      "cell_type": "code",
      "metadata": {
        "colab": {
          "base_uri": "https://localhost:8080/"
        },
        "id": "mgcgJAsUwfVY",
        "outputId": "14623b43-4748-44b8-cd2d-6046672c6145"
      },
      "source": [
        "z = torch.arange(3).view(3,1)\n",
        "print(z)"
      ],
      "execution_count": 55,
      "outputs": [
        {
          "output_type": "stream",
          "text": [
            "tensor([[0],\n",
            "        [1],\n",
            "        [2]])\n"
          ],
          "name": "stdout"
        }
      ]
    },
    {
      "cell_type": "code",
      "metadata": {
        "colab": {
          "base_uri": "https://localhost:8080/"
        },
        "id": "S7ghNO7_wluY",
        "outputId": "2c99c083-30eb-4aef-9b7e-8d2a329b67a8"
      },
      "source": [
        "print(x+z) #broadcasting"
      ],
      "execution_count": 56,
      "outputs": [
        {
          "output_type": "stream",
          "text": [
            "tensor([[ 0,  1,  2,  3],\n",
            "        [ 5,  6,  7,  8],\n",
            "        [10, 11, 12, 13]])\n"
          ],
          "name": "stdout"
        }
      ]
    },
    {
      "cell_type": "code",
      "metadata": {
        "colab": {
          "base_uri": "https://localhost:8080/"
        },
        "id": "yibWQwzrwpBn",
        "outputId": "fc863b05-2dd9-4dc1-800b-246bd60fb6af"
      },
      "source": [
        "print(y+z) #broadcasting"
      ],
      "execution_count": 57,
      "outputs": [
        {
          "output_type": "stream",
          "text": [
            "tensor([[0, 1, 2, 3],\n",
            "        [1, 2, 3, 4],\n",
            "        [2, 3, 4, 5]])\n"
          ],
          "name": "stdout"
        }
      ]
    },
    {
      "cell_type": "code",
      "metadata": {
        "colab": {
          "base_uri": "https://localhost:8080/"
        },
        "id": "Lmau9-XfyWUk",
        "outputId": "fc017b65-0751-4500-8bdc-31d13ba9a5ce"
      },
      "source": [
        "x = torch.arange(12).view(3, 4)\n",
        "print(x.shape)\n",
        "x"
      ],
      "execution_count": 59,
      "outputs": [
        {
          "output_type": "stream",
          "text": [
            "torch.Size([3, 4])\n"
          ],
          "name": "stdout"
        },
        {
          "output_type": "execute_result",
          "data": {
            "text/plain": [
              "tensor([[ 0,  1,  2,  3],\n",
              "        [ 4,  5,  6,  7],\n",
              "        [ 8,  9, 10, 11]])"
            ]
          },
          "metadata": {
            "tags": []
          },
          "execution_count": 59
        }
      ]
    },
    {
      "cell_type": "code",
      "metadata": {
        "colab": {
          "base_uri": "https://localhost:8080/"
        },
        "id": "84bD6Ar43Q29",
        "outputId": "6baec7a9-d01e-4128-cf61-0e42665487ee"
      },
      "source": [
        "x = x.unsqueeze(dim=1)\n",
        "print(x.shape)\n",
        "x"
      ],
      "execution_count": 64,
      "outputs": [
        {
          "output_type": "stream",
          "text": [
            "torch.Size([3, 1, 4])\n"
          ],
          "name": "stdout"
        },
        {
          "output_type": "execute_result",
          "data": {
            "text/plain": [
              "tensor([[[ 0,  1,  2,  3]],\n",
              "\n",
              "        [[ 4,  5,  6,  7]],\n",
              "\n",
              "        [[ 8,  9, 10, 11]]])"
            ]
          },
          "metadata": {
            "tags": []
          },
          "execution_count": 64
        }
      ]
    },
    {
      "cell_type": "code",
      "metadata": {
        "colab": {
          "base_uri": "https://localhost:8080/"
        },
        "id": "rC2ZhaRG3aaW",
        "outputId": "ffa255ef-8e85-4eb1-d900-53e019b2d4c1"
      },
      "source": [
        "x = x.squeeze()\n",
        "print(x.shape)\n",
        "x"
      ],
      "execution_count": 65,
      "outputs": [
        {
          "output_type": "stream",
          "text": [
            "torch.Size([3, 4])\n"
          ],
          "name": "stdout"
        },
        {
          "output_type": "execute_result",
          "data": {
            "text/plain": [
              "tensor([[ 0,  1,  2,  3],\n",
              "        [ 4,  5,  6,  7],\n",
              "        [ 8,  9, 10, 11]])"
            ]
          },
          "metadata": {
            "tags": []
          },
          "execution_count": 65
        }
      ]
    },
    {
      "cell_type": "code",
      "metadata": {
        "colab": {
          "base_uri": "https://localhost:8080/"
        },
        "id": "rl_92VoF30Ir",
        "outputId": "8404e3a8-cf17-4e4d-9f48-a1d46e9b85ff"
      },
      "source": [
        "x = torch.rand(3,4)\n",
        "print(\"x: \\n\", x)\n",
        "print(\"--\")\n",
        "print(\"torch.add(x, x): \\n\", torch.add(x, x))\n",
        "print(\"--\")\n",
        "print(\"x+x: \\n\", x + x)"
      ],
      "execution_count": 67,
      "outputs": [
        {
          "output_type": "stream",
          "text": [
            "x: \n",
            " tensor([[0.8043, 0.3186, 0.2908, 0.4196],\n",
            "        [0.3728, 0.3769, 0.0108, 0.9455],\n",
            "        [0.7661, 0.2634, 0.1880, 0.5174]])\n",
            "--\n",
            "torch.add(x, x): \n",
            " tensor([[1.6086, 0.6372, 0.5816, 0.8392],\n",
            "        [0.7456, 0.7538, 0.0216, 1.8910],\n",
            "        [1.5322, 0.5268, 0.3761, 1.0348]])\n",
            "--\n",
            "x+x: \n",
            " tensor([[1.6086, 0.6372, 0.5816, 0.8392],\n",
            "        [0.7456, 0.7538, 0.0216, 1.8910],\n",
            "        [1.5322, 0.5268, 0.3761, 1.0348]])\n"
          ],
          "name": "stdout"
        }
      ]
    },
    {
      "cell_type": "code",
      "metadata": {
        "colab": {
          "base_uri": "https://localhost:8080/"
        },
        "id": "DnIV8wCi45f-",
        "outputId": "a17e2421-ef6c-49af-9a1b-2dc50b1c4eab"
      },
      "source": [
        "x = torch.arange(12).reshape(3, 4)\n",
        "print(x)"
      ],
      "execution_count": 69,
      "outputs": [
        {
          "output_type": "stream",
          "text": [
            "tensor([[ 0,  1,  2,  3],\n",
            "        [ 4,  5,  6,  7],\n",
            "        [ 8,  9, 10, 11]])\n"
          ],
          "name": "stdout"
        }
      ]
    },
    {
      "cell_type": "code",
      "metadata": {
        "colab": {
          "base_uri": "https://localhost:8080/"
        },
        "id": "nNp9QJHb5Mlf",
        "outputId": "88a67d81-7516-4fb5-94ec-8803479fc184"
      },
      "source": [
        "print(x.add_(x))"
      ],
      "execution_count": 70,
      "outputs": [
        {
          "output_type": "stream",
          "text": [
            "tensor([[ 0,  2,  4,  6],\n",
            "        [ 8, 10, 12, 14],\n",
            "        [16, 18, 20, 22]])\n"
          ],
          "name": "stdout"
        }
      ]
    },
    {
      "cell_type": "code",
      "metadata": {
        "colab": {
          "base_uri": "https://localhost:8080/"
        },
        "id": "ljgMMrD65SHz",
        "outputId": "fef7d3e4-4d50-425e-a033-3f622eb6b685"
      },
      "source": [
        "x = torch.arange(12).reshape(3, 4)\n",
        "print(\"x: \\n\", x)"
      ],
      "execution_count": 71,
      "outputs": [
        {
          "output_type": "stream",
          "text": [
            "x: \n",
            " tensor([[ 0,  1,  2,  3],\n",
            "        [ 4,  5,  6,  7],\n",
            "        [ 8,  9, 10, 11]])\n"
          ],
          "name": "stdout"
        }
      ]
    },
    {
      "cell_type": "code",
      "metadata": {
        "colab": {
          "base_uri": "https://localhost:8080/"
        },
        "id": "UDyd5tzi55F-",
        "outputId": "45c46923-731b-4d30-b81b-1854b9775f1c"
      },
      "source": [
        "print(\"Summing across rows(dim=0): \\n\", x.sum(dim=0))"
      ],
      "execution_count": 72,
      "outputs": [
        {
          "output_type": "stream",
          "text": [
            "Summing across rows(dim=0): \n",
            " tensor([12, 15, 18, 21])\n"
          ],
          "name": "stdout"
        }
      ]
    },
    {
      "cell_type": "code",
      "metadata": {
        "colab": {
          "base_uri": "https://localhost:8080/"
        },
        "id": "NdYEG7wG6PVS",
        "outputId": "e496e084-c9d9-49d9-9526-9cfb7270a2c5"
      },
      "source": [
        "print(\"Summing across cols(dim=1): \\n\", x.sum(dim=1))"
      ],
      "execution_count": 74,
      "outputs": [
        {
          "output_type": "stream",
          "text": [
            "Summing across cols(dim=1): \n",
            " tensor([ 6, 22, 38])\n"
          ],
          "name": "stdout"
        }
      ]
    },
    {
      "cell_type": "markdown",
      "metadata": {
        "id": "K7B0iHqC6bxs"
      },
      "source": [
        "## Indexing, Slicing, Joining, Mutating"
      ]
    },
    {
      "cell_type": "markdown",
      "metadata": {
        "id": "3NTy6Vby8BtK"
      },
      "source": [
        "Indexing"
      ]
    },
    {
      "cell_type": "code",
      "metadata": {
        "colab": {
          "base_uri": "https://localhost:8080/"
        },
        "id": "neof2-Qu6U9I",
        "outputId": "db03c7b8-3e88-4c0c-86a6-2645072ddb55"
      },
      "source": [
        "x = torch.arange(6).view(2, 3)\n",
        "print(\"x: \\n\", x)"
      ],
      "execution_count": 75,
      "outputs": [
        {
          "output_type": "stream",
          "text": [
            "x: \n",
            " tensor([[0, 1, 2],\n",
            "        [3, 4, 5]])\n"
          ],
          "name": "stdout"
        }
      ]
    },
    {
      "cell_type": "code",
      "metadata": {
        "colab": {
          "base_uri": "https://localhost:8080/"
        },
        "id": "jLH0-AQA6kWX",
        "outputId": "b4413271-9b33-41dd-9bf5-c2c54a8086d0"
      },
      "source": [
        "print(\"x[:2, :2] -> \\n\", x[:2, :2])"
      ],
      "execution_count": 76,
      "outputs": [
        {
          "output_type": "stream",
          "text": [
            "x[:2, :2] -> \n",
            " tensor([[0, 1],\n",
            "        [3, 4]])\n"
          ],
          "name": "stdout"
        }
      ]
    },
    {
      "cell_type": "code",
      "metadata": {
        "colab": {
          "base_uri": "https://localhost:8080/"
        },
        "id": "o7UYK8p762zT",
        "outputId": "cc412d3c-9757-4256-8d2e-ac4efbad5483"
      },
      "source": [
        "print(\"x[0][1]: \\n\", x[0][1])"
      ],
      "execution_count": 77,
      "outputs": [
        {
          "output_type": "stream",
          "text": [
            "x[0][1]: \n",
            " tensor(1)\n"
          ],
          "name": "stdout"
        }
      ]
    },
    {
      "cell_type": "code",
      "metadata": {
        "colab": {
          "base_uri": "https://localhost:8080/"
        },
        "id": "2JXw21h77EJX",
        "outputId": "aa7268f7-b00a-483a-b57a-f370ec7ba5d4"
      },
      "source": [
        "print(\"Setting [0][1] to be 8\")\n",
        "x[0][1] = 8\n",
        "print(x)"
      ],
      "execution_count": 78,
      "outputs": [
        {
          "output_type": "stream",
          "text": [
            "Setting [0][1] to be 8\n",
            "tensor([[0, 8, 2],\n",
            "        [3, 4, 5]])\n"
          ],
          "name": "stdout"
        }
      ]
    },
    {
      "cell_type": "markdown",
      "metadata": {
        "id": "b07hSCNQ8D1f"
      },
      "source": [
        "Index_select"
      ]
    },
    {
      "cell_type": "code",
      "metadata": {
        "colab": {
          "base_uri": "https://localhost:8080/"
        },
        "id": "2HBF1LH47KfR",
        "outputId": "b37d7861-9b54-4f0b-fe04-749d79df8f9e"
      },
      "source": [
        "x = torch.arange(9).view(3,3)\n",
        "print(x)"
      ],
      "execution_count": 79,
      "outputs": [
        {
          "output_type": "stream",
          "text": [
            "tensor([[0, 1, 2],\n",
            "        [3, 4, 5],\n",
            "        [6, 7, 8]])\n"
          ],
          "name": "stdout"
        }
      ]
    },
    {
      "cell_type": "code",
      "metadata": {
        "colab": {
          "base_uri": "https://localhost:8080/"
        },
        "id": "ds0-cssH7-EK",
        "outputId": "ae30772d-2ad4-4560-82d8-82fec9f336e6"
      },
      "source": [
        "indices = torch.LongTensor([0, 2])\n",
        "torch.index_select(x, dim=0, index=indices)"
      ],
      "execution_count": 80,
      "outputs": [
        {
          "output_type": "execute_result",
          "data": {
            "text/plain": [
              "tensor([[0, 1, 2],\n",
              "        [6, 7, 8]])"
            ]
          },
          "metadata": {
            "tags": []
          },
          "execution_count": 80
        }
      ]
    },
    {
      "cell_type": "code",
      "metadata": {
        "colab": {
          "base_uri": "https://localhost:8080/"
        },
        "id": "SbxahHkJ8Wb1",
        "outputId": "e056461d-8ba6-40ff-f15a-1f8b69bca249"
      },
      "source": [
        "indices = torch.LongTensor([0, 2])\n",
        "torch.index_select(x, dim=1, index=indices)"
      ],
      "execution_count": 81,
      "outputs": [
        {
          "output_type": "execute_result",
          "data": {
            "text/plain": [
              "tensor([[0, 2],\n",
              "        [3, 5],\n",
              "        [6, 8]])"
            ]
          },
          "metadata": {
            "tags": []
          },
          "execution_count": 81
        }
      ]
    },
    {
      "cell_type": "markdown",
      "metadata": {
        "id": "UHqZQX84-F33"
      },
      "source": [
        "numpy-style advanced indexing"
      ]
    },
    {
      "cell_type": "code",
      "metadata": {
        "colab": {
          "base_uri": "https://localhost:8080/"
        },
        "id": "KO_X0yTN8buC",
        "outputId": "454d9756-588f-4ed8-bf55-64a5d4fed7f5"
      },
      "source": [
        "x = torch.arange(9).view(3,3)\n",
        "indices = torch.LongTensor([0, 2])\n",
        "x"
      ],
      "execution_count": 85,
      "outputs": [
        {
          "output_type": "execute_result",
          "data": {
            "text/plain": [
              "tensor([[0, 1, 2],\n",
              "        [3, 4, 5],\n",
              "        [6, 7, 8]])"
            ]
          },
          "metadata": {
            "tags": []
          },
          "execution_count": 85
        }
      ]
    },
    {
      "cell_type": "code",
      "metadata": {
        "colab": {
          "base_uri": "https://localhost:8080/"
        },
        "id": "57wzgD8M9vte",
        "outputId": "81ad2c7e-913f-49ae-e1d8-a7f525285892"
      },
      "source": [
        "x[indices]"
      ],
      "execution_count": 86,
      "outputs": [
        {
          "output_type": "execute_result",
          "data": {
            "text/plain": [
              "tensor([[0, 1, 2],\n",
              "        [6, 7, 8]])"
            ]
          },
          "metadata": {
            "tags": []
          },
          "execution_count": 86
        }
      ]
    },
    {
      "cell_type": "code",
      "metadata": {
        "colab": {
          "base_uri": "https://localhost:8080/"
        },
        "id": "bLP7YvCn94F9",
        "outputId": "6090326e-074e-4025-b947-f66c8fd1065f"
      },
      "source": [
        "x[indices, :]"
      ],
      "execution_count": 87,
      "outputs": [
        {
          "output_type": "execute_result",
          "data": {
            "text/plain": [
              "tensor([[0, 1, 2],\n",
              "        [6, 7, 8]])"
            ]
          },
          "metadata": {
            "tags": []
          },
          "execution_count": 87
        }
      ]
    },
    {
      "cell_type": "code",
      "metadata": {
        "colab": {
          "base_uri": "https://localhost:8080/"
        },
        "id": "MypoG0Y1-Mph",
        "outputId": "16451f2e-4562-4d04-c055-ce2351f5d2dc"
      },
      "source": [
        "x[:, indices]"
      ],
      "execution_count": 88,
      "outputs": [
        {
          "output_type": "execute_result",
          "data": {
            "text/plain": [
              "tensor([[0, 2],\n",
              "        [3, 5],\n",
              "        [6, 8]])"
            ]
          },
          "metadata": {
            "tags": []
          },
          "execution_count": 88
        }
      ]
    },
    {
      "cell_type": "code",
      "metadata": {
        "colab": {
          "base_uri": "https://localhost:8080/"
        },
        "id": "Ax4cv61B-Qwc",
        "outputId": "2d05e18e-0d3a-4d36-d2eb-9538eacdf493"
      },
      "source": [
        "x = torch.arange(6).view(2,3)\n",
        "describe(x)"
      ],
      "execution_count": 89,
      "outputs": [
        {
          "output_type": "stream",
          "text": [
            "Type: torch.LongTensor\n",
            "Shape/size: torch.Size([2, 3])\n",
            "Values: \n",
            "tensor([[0, 1, 2],\n",
            "        [3, 4, 5]])\n"
          ],
          "name": "stdout"
        }
      ]
    },
    {
      "cell_type": "code",
      "metadata": {
        "colab": {
          "base_uri": "https://localhost:8080/"
        },
        "id": "Z-SoYmjX-e2-",
        "outputId": "3edc5bca-555e-4804-aeab-a215be2bb248"
      },
      "source": [
        "describe(torch.cat([x, x], dim=0))"
      ],
      "execution_count": 90,
      "outputs": [
        {
          "output_type": "stream",
          "text": [
            "Type: torch.LongTensor\n",
            "Shape/size: torch.Size([4, 3])\n",
            "Values: \n",
            "tensor([[0, 1, 2],\n",
            "        [3, 4, 5],\n",
            "        [0, 1, 2],\n",
            "        [3, 4, 5]])\n"
          ],
          "name": "stdout"
        }
      ]
    },
    {
      "cell_type": "code",
      "metadata": {
        "colab": {
          "base_uri": "https://localhost:8080/"
        },
        "id": "sGLILyxf-k0a",
        "outputId": "364ff4be-5ff7-4d32-ce55-5ad95d94380a"
      },
      "source": [
        "describe(torch.cat([x, x], dim=1))"
      ],
      "execution_count": 91,
      "outputs": [
        {
          "output_type": "stream",
          "text": [
            "Type: torch.LongTensor\n",
            "Shape/size: torch.Size([2, 6])\n",
            "Values: \n",
            "tensor([[0, 1, 2, 0, 1, 2],\n",
            "        [3, 4, 5, 3, 4, 5]])\n"
          ],
          "name": "stdout"
        }
      ]
    },
    {
      "cell_type": "code",
      "metadata": {
        "colab": {
          "base_uri": "https://localhost:8080/"
        },
        "id": "SPrnd2IA-y2q",
        "outputId": "260c0df2-1984-4d19-b433-a7ff73ccacf4"
      },
      "source": [
        "describe(torch.stack([x, x]))"
      ],
      "execution_count": 92,
      "outputs": [
        {
          "output_type": "stream",
          "text": [
            "Type: torch.LongTensor\n",
            "Shape/size: torch.Size([2, 2, 3])\n",
            "Values: \n",
            "tensor([[[0, 1, 2],\n",
            "         [3, 4, 5]],\n",
            "\n",
            "        [[0, 1, 2],\n",
            "         [3, 4, 5]]])\n"
          ],
          "name": "stdout"
        }
      ]
    },
    {
      "cell_type": "code",
      "metadata": {
        "colab": {
          "base_uri": "https://localhost:8080/"
        },
        "id": "CMphJWLH-31K",
        "outputId": "13c9ec94-be90-41ef-d74a-e65f9ed50a69"
      },
      "source": [
        "x = torch.arange(9).view(3,3)\n",
        "print(x)"
      ],
      "execution_count": 93,
      "outputs": [
        {
          "output_type": "stream",
          "text": [
            "tensor([[0, 1, 2],\n",
            "        [3, 4, 5],\n",
            "        [6, 7, 8]])\n"
          ],
          "name": "stdout"
        }
      ]
    },
    {
      "cell_type": "code",
      "metadata": {
        "id": "GBTt4_T9_mWk"
      },
      "source": [
        "new_x = torch.cat([x,x,x], dim=1)"
      ],
      "execution_count": 94,
      "outputs": []
    },
    {
      "cell_type": "code",
      "metadata": {
        "colab": {
          "base_uri": "https://localhost:8080/"
        },
        "id": "HzT1ja8t_qS0",
        "outputId": "ddaff1cf-6116-4438-855a-16444a744166"
      },
      "source": [
        "print(new_x.shape)\n",
        "print(new_x)"
      ],
      "execution_count": 95,
      "outputs": [
        {
          "output_type": "stream",
          "text": [
            "torch.Size([3, 9])\n",
            "tensor([[0, 1, 2, 0, 1, 2, 0, 1, 2],\n",
            "        [3, 4, 5, 3, 4, 5, 3, 4, 5],\n",
            "        [6, 7, 8, 6, 7, 8, 6, 7, 8]])\n"
          ],
          "name": "stdout"
        }
      ]
    },
    {
      "cell_type": "code",
      "metadata": {
        "colab": {
          "base_uri": "https://localhost:8080/"
        },
        "id": "6jurYujw_trk",
        "outputId": "47210b73-97b7-48ed-bd40-8b7de4a69ae0"
      },
      "source": [
        "x = torch.arange(9).view(3,3)\n",
        "print(x)"
      ],
      "execution_count": 97,
      "outputs": [
        {
          "output_type": "stream",
          "text": [
            "tensor([[0, 1, 2],\n",
            "        [3, 4, 5],\n",
            "        [6, 7, 8]])\n"
          ],
          "name": "stdout"
        }
      ]
    },
    {
      "cell_type": "code",
      "metadata": {
        "colab": {
          "base_uri": "https://localhost:8080/"
        },
        "id": "9dKpzcbp_735",
        "outputId": "8b93e6fd-30bb-4782-f42b-95429ebccaeb"
      },
      "source": [
        "new_x = torch.stack([x, x, x])\n",
        "print(new_x.shape)\n",
        "print(new_x)"
      ],
      "execution_count": 98,
      "outputs": [
        {
          "output_type": "stream",
          "text": [
            "torch.Size([3, 3, 3])\n",
            "tensor([[[0, 1, 2],\n",
            "         [3, 4, 5],\n",
            "         [6, 7, 8]],\n",
            "\n",
            "        [[0, 1, 2],\n",
            "         [3, 4, 5],\n",
            "         [6, 7, 8]],\n",
            "\n",
            "        [[0, 1, 2],\n",
            "         [3, 4, 5],\n",
            "         [6, 7, 8]]])\n"
          ],
          "name": "stdout"
        }
      ]
    },
    {
      "cell_type": "markdown",
      "metadata": {
        "id": "hXC3BWnSJ-iM"
      },
      "source": [
        "Linear Algebra Tensor Function"
      ]
    },
    {
      "cell_type": "code",
      "metadata": {
        "colab": {
          "base_uri": "https://localhost:8080/"
        },
        "id": "tEioiEwaATPk",
        "outputId": "b2921680-9de5-4ef7-a363-b75650f457ee"
      },
      "source": [
        "x = torch.arange(0, 12).view(3,4)\n",
        "print(\"x: \\n\", x)\n",
        "print(\"---\")\n",
        "# 이 조건에서는 (0번째)x=3  (1번째)y=4라고 하자"
      ],
      "execution_count": 108,
      "outputs": [
        {
          "output_type": "stream",
          "text": [
            "x: \n",
            " tensor([[ 0,  1,  2,  3],\n",
            "        [ 4,  5,  6,  7],\n",
            "        [ 8,  9, 10, 11]])\n",
            "---\n"
          ],
          "name": "stdout"
        }
      ]
    },
    {
      "cell_type": "code",
      "metadata": {
        "colab": {
          "base_uri": "https://localhost:8080/"
        },
        "id": "eGrd2uZUKMvn",
        "outputId": "0c3adf41-bd3e-44bd-dfae-a952f00251cb"
      },
      "source": [
        "print(x.transpose(1,0)) # y를 앞에, x를 뒤에\n",
        "x.transpose(1,0).shape"
      ],
      "execution_count": 110,
      "outputs": [
        {
          "output_type": "stream",
          "text": [
            "tensor([[ 0,  4,  8],\n",
            "        [ 1,  5,  9],\n",
            "        [ 2,  6, 10],\n",
            "        [ 3,  7, 11]])\n"
          ],
          "name": "stdout"
        },
        {
          "output_type": "execute_result",
          "data": {
            "text/plain": [
              "torch.Size([4, 3])"
            ]
          },
          "metadata": {
            "tags": []
          },
          "execution_count": 110
        }
      ]
    },
    {
      "cell_type": "code",
      "metadata": {
        "colab": {
          "base_uri": "https://localhost:8080/"
        },
        "id": "jQvEHolmOpZK",
        "outputId": "91583ee1-a047-4bd5-d6d2-4020737c1857"
      },
      "source": [
        "batch_size = 3\n",
        "seq_size = 4\n",
        "feature_size = 5\n",
        "\n",
        "x = torch.arange(batch_size * seq_size * feature_size)\n",
        "x"
      ],
      "execution_count": 111,
      "outputs": [
        {
          "output_type": "execute_result",
          "data": {
            "text/plain": [
              "tensor([ 0,  1,  2,  3,  4,  5,  6,  7,  8,  9, 10, 11, 12, 13, 14, 15, 16, 17,\n",
              "        18, 19, 20, 21, 22, 23, 24, 25, 26, 27, 28, 29, 30, 31, 32, 33, 34, 35,\n",
              "        36, 37, 38, 39, 40, 41, 42, 43, 44, 45, 46, 47, 48, 49, 50, 51, 52, 53,\n",
              "        54, 55, 56, 57, 58, 59])"
            ]
          },
          "metadata": {
            "tags": []
          },
          "execution_count": 111
        }
      ]
    },
    {
      "cell_type": "code",
      "metadata": {
        "colab": {
          "base_uri": "https://localhost:8080/"
        },
        "id": "5TBJM_BrO7OS",
        "outputId": "df5fac6a-06c8-4dc3-969d-3e61db2402be"
      },
      "source": [
        "x = x.view(batch_size, seq_size, feature_size)\n",
        "print(x.shape) # 0번째 x:3 / 1번째 y:4 / 2번째 z:5"
      ],
      "execution_count": 113,
      "outputs": [
        {
          "output_type": "stream",
          "text": [
            "torch.Size([3, 4, 5])\n"
          ],
          "name": "stdout"
        }
      ]
    },
    {
      "cell_type": "code",
      "metadata": {
        "colab": {
          "base_uri": "https://localhost:8080/"
        },
        "id": "xf3km2HdPA6K",
        "outputId": "6e0e65f5-e660-4d19-9422-8380121eaa41"
      },
      "source": [
        "print(x)"
      ],
      "execution_count": 114,
      "outputs": [
        {
          "output_type": "stream",
          "text": [
            "tensor([[[ 0,  1,  2,  3,  4],\n",
            "         [ 5,  6,  7,  8,  9],\n",
            "         [10, 11, 12, 13, 14],\n",
            "         [15, 16, 17, 18, 19]],\n",
            "\n",
            "        [[20, 21, 22, 23, 24],\n",
            "         [25, 26, 27, 28, 29],\n",
            "         [30, 31, 32, 33, 34],\n",
            "         [35, 36, 37, 38, 39]],\n",
            "\n",
            "        [[40, 41, 42, 43, 44],\n",
            "         [45, 46, 47, 48, 49],\n",
            "         [50, 51, 52, 53, 54],\n",
            "         [55, 56, 57, 58, 59]]])\n"
          ],
          "name": "stdout"
        }
      ]
    },
    {
      "cell_type": "code",
      "metadata": {
        "colab": {
          "base_uri": "https://localhost:8080/"
        },
        "id": "EhofSMRyPIdT",
        "outputId": "8240de76-dac6-43af-e81e-e5f5cd1bd0ea"
      },
      "source": [
        "print(x.transpose(1,0).shape) #x와 y의 위치 변경\n",
        "print(x.transpose(2,1).shape) #y와 z의 위치 변경\n",
        "print(x.transpose(2,0).shape) #x와 z의 위치 변경"
      ],
      "execution_count": 123,
      "outputs": [
        {
          "output_type": "stream",
          "text": [
            "torch.Size([4, 3, 5])\n",
            "torch.Size([3, 5, 4])\n",
            "torch.Size([5, 4, 3])\n"
          ],
          "name": "stdout"
        }
      ]
    },
    {
      "cell_type": "code",
      "metadata": {
        "colab": {
          "base_uri": "https://localhost:8080/"
        },
        "id": "FkPI0fqvPmcs",
        "outputId": "38c1084b-1a2a-48ef-e96b-ef495c4b4079"
      },
      "source": [
        "print(x.transpose(1,0))"
      ],
      "execution_count": 124,
      "outputs": [
        {
          "output_type": "stream",
          "text": [
            "tensor([[[ 0,  1,  2,  3,  4],\n",
            "         [20, 21, 22, 23, 24],\n",
            "         [40, 41, 42, 43, 44]],\n",
            "\n",
            "        [[ 5,  6,  7,  8,  9],\n",
            "         [25, 26, 27, 28, 29],\n",
            "         [45, 46, 47, 48, 49]],\n",
            "\n",
            "        [[10, 11, 12, 13, 14],\n",
            "         [30, 31, 32, 33, 34],\n",
            "         [50, 51, 52, 53, 54]],\n",
            "\n",
            "        [[15, 16, 17, 18, 19],\n",
            "         [35, 36, 37, 38, 39],\n",
            "         [55, 56, 57, 58, 59]]])\n"
          ],
          "name": "stdout"
        }
      ]
    },
    {
      "cell_type": "code",
      "metadata": {
        "colab": {
          "base_uri": "https://localhost:8080/"
        },
        "id": "eNFnpmG_QGKp",
        "outputId": "dd400ba2-c440-4215-94b5-30d36d354d81"
      },
      "source": [
        "print(x.transpose(2,1))"
      ],
      "execution_count": 125,
      "outputs": [
        {
          "output_type": "stream",
          "text": [
            "tensor([[[ 0,  5, 10, 15],\n",
            "         [ 1,  6, 11, 16],\n",
            "         [ 2,  7, 12, 17],\n",
            "         [ 3,  8, 13, 18],\n",
            "         [ 4,  9, 14, 19]],\n",
            "\n",
            "        [[20, 25, 30, 35],\n",
            "         [21, 26, 31, 36],\n",
            "         [22, 27, 32, 37],\n",
            "         [23, 28, 33, 38],\n",
            "         [24, 29, 34, 39]],\n",
            "\n",
            "        [[40, 45, 50, 55],\n",
            "         [41, 46, 51, 56],\n",
            "         [42, 47, 52, 57],\n",
            "         [43, 48, 53, 58],\n",
            "         [44, 49, 54, 59]]])\n"
          ],
          "name": "stdout"
        }
      ]
    },
    {
      "cell_type": "code",
      "metadata": {
        "colab": {
          "base_uri": "https://localhost:8080/"
        },
        "id": "mJ8haWJSQabj",
        "outputId": "5e6b6f42-2203-4420-8c9b-10bd1da0b646"
      },
      "source": [
        "print(x.transpose(2,0))"
      ],
      "execution_count": 126,
      "outputs": [
        {
          "output_type": "stream",
          "text": [
            "tensor([[[ 0, 20, 40],\n",
            "         [ 5, 25, 45],\n",
            "         [10, 30, 50],\n",
            "         [15, 35, 55]],\n",
            "\n",
            "        [[ 1, 21, 41],\n",
            "         [ 6, 26, 46],\n",
            "         [11, 31, 51],\n",
            "         [16, 36, 56]],\n",
            "\n",
            "        [[ 2, 22, 42],\n",
            "         [ 7, 27, 47],\n",
            "         [12, 32, 52],\n",
            "         [17, 37, 57]],\n",
            "\n",
            "        [[ 3, 23, 43],\n",
            "         [ 8, 28, 48],\n",
            "         [13, 33, 53],\n",
            "         [18, 38, 58]],\n",
            "\n",
            "        [[ 4, 24, 44],\n",
            "         [ 9, 29, 49],\n",
            "         [14, 34, 54],\n",
            "         [19, 39, 59]]])\n"
          ],
          "name": "stdout"
        }
      ]
    },
    {
      "cell_type": "markdown",
      "metadata": {
        "id": "Ee-DzWORSqcr"
      },
      "source": [
        "Permute"
      ]
    },
    {
      "cell_type": "code",
      "metadata": {
        "colab": {
          "base_uri": "https://localhost:8080/"
        },
        "id": "gMhCwUX5QfXQ",
        "outputId": "3ec0a2a6-9be5-43b6-d61e-1e9128c05333"
      },
      "source": [
        "batch_size = 3\n",
        "seq_size = 4\n",
        "feature_size = 5\n",
        "\n",
        "x = torch.arange(batch_size * seq_size * feature_size).view(batch_size, seq_size, feature_size)\n",
        "\n",
        "print(\"x.shape: \\n\", x.shape)\n",
        "print(x)"
      ],
      "execution_count": 131,
      "outputs": [
        {
          "output_type": "stream",
          "text": [
            "x.shape: \n",
            " torch.Size([3, 4, 5])\n",
            "tensor([[[ 0,  1,  2,  3,  4],\n",
            "         [ 5,  6,  7,  8,  9],\n",
            "         [10, 11, 12, 13, 14],\n",
            "         [15, 16, 17, 18, 19]],\n",
            "\n",
            "        [[20, 21, 22, 23, 24],\n",
            "         [25, 26, 27, 28, 29],\n",
            "         [30, 31, 32, 33, 34],\n",
            "         [35, 36, 37, 38, 39]],\n",
            "\n",
            "        [[40, 41, 42, 43, 44],\n",
            "         [45, 46, 47, 48, 49],\n",
            "         [50, 51, 52, 53, 54],\n",
            "         [55, 56, 57, 58, 59]]])\n"
          ],
          "name": "stdout"
        }
      ]
    },
    {
      "cell_type": "code",
      "metadata": {
        "colab": {
          "base_uri": "https://localhost:8080/"
        },
        "id": "HbuHc8OgTfdr",
        "outputId": "f554c435-feab-4d50-d587-f60ccb188b6b"
      },
      "source": [
        "# 3->0, 4->1, 5->2\n",
        "print(\"x.permute(1, 0, 2).shape: \\n\", x.permute(1, 0, 2).shape)\n",
        "print(x.permute(1,0,2)) #(4,3,5)"
      ],
      "execution_count": 133,
      "outputs": [
        {
          "output_type": "stream",
          "text": [
            "x.permute(1, 0, 2).shape: \n",
            " torch.Size([4, 3, 5])\n",
            "tensor([[[ 0,  1,  2,  3,  4],\n",
            "         [20, 21, 22, 23, 24],\n",
            "         [40, 41, 42, 43, 44]],\n",
            "\n",
            "        [[ 5,  6,  7,  8,  9],\n",
            "         [25, 26, 27, 28, 29],\n",
            "         [45, 46, 47, 48, 49]],\n",
            "\n",
            "        [[10, 11, 12, 13, 14],\n",
            "         [30, 31, 32, 33, 34],\n",
            "         [50, 51, 52, 53, 54]],\n",
            "\n",
            "        [[15, 16, 17, 18, 19],\n",
            "         [35, 36, 37, 38, 39],\n",
            "         [55, 56, 57, 58, 59]]])\n"
          ],
          "name": "stdout"
        }
      ]
    },
    {
      "cell_type": "code",
      "metadata": {
        "colab": {
          "base_uri": "https://localhost:8080/"
        },
        "id": "_-yb-1k1UAEl",
        "outputId": "3d3496fd-9cbc-4d25-e5a7-dfcc5160c3d2"
      },
      "source": [
        "print(x.permute(2,1,0)) #(5,4,3)"
      ],
      "execution_count": 134,
      "outputs": [
        {
          "output_type": "stream",
          "text": [
            "tensor([[[ 0, 20, 40],\n",
            "         [ 5, 25, 45],\n",
            "         [10, 30, 50],\n",
            "         [15, 35, 55]],\n",
            "\n",
            "        [[ 1, 21, 41],\n",
            "         [ 6, 26, 46],\n",
            "         [11, 31, 51],\n",
            "         [16, 36, 56]],\n",
            "\n",
            "        [[ 2, 22, 42],\n",
            "         [ 7, 27, 47],\n",
            "         [12, 32, 52],\n",
            "         [17, 37, 57]],\n",
            "\n",
            "        [[ 3, 23, 43],\n",
            "         [ 8, 28, 48],\n",
            "         [13, 33, 53],\n",
            "         [18, 38, 58]],\n",
            "\n",
            "        [[ 4, 24, 44],\n",
            "         [ 9, 29, 49],\n",
            "         [14, 34, 54],\n",
            "         [19, 39, 59]]])\n"
          ],
          "name": "stdout"
        }
      ]
    },
    {
      "cell_type": "markdown",
      "metadata": {
        "id": "B2FNFinkX6QJ"
      },
      "source": [
        "Matrix multipication"
      ]
    },
    {
      "cell_type": "code",
      "metadata": {
        "colab": {
          "base_uri": "https://localhost:8080/"
        },
        "id": "1tXqpt53VrLM",
        "outputId": "3f7c3746-3405-4e08-f3eb-1cda31bdd1e8"
      },
      "source": [
        "torch.randn(2, 3, requires_grad=True)"
      ],
      "execution_count": 135,
      "outputs": [
        {
          "output_type": "execute_result",
          "data": {
            "text/plain": [
              "tensor([[-0.2107,  1.1399, -2.5122],\n",
              "        [ 1.3823,  0.9847,  1.4719]], requires_grad=True)"
            ]
          },
          "metadata": {
            "tags": []
          },
          "execution_count": 135
        }
      ]
    },
    {
      "cell_type": "code",
      "metadata": {
        "colab": {
          "base_uri": "https://localhost:8080/"
        },
        "id": "CfYJBX4NYFeb",
        "outputId": "387a356d-53cd-4c0b-ceac-51833b14be32"
      },
      "source": [
        "x1 = torch.arange(6).view(2, 3).float()\n",
        "describe(x1)"
      ],
      "execution_count": 136,
      "outputs": [
        {
          "output_type": "stream",
          "text": [
            "Type: torch.FloatTensor\n",
            "Shape/size: torch.Size([2, 3])\n",
            "Values: \n",
            "tensor([[0., 1., 2.],\n",
            "        [3., 4., 5.]])\n"
          ],
          "name": "stdout"
        }
      ]
    },
    {
      "cell_type": "code",
      "metadata": {
        "colab": {
          "base_uri": "https://localhost:8080/"
        },
        "id": "eNZwRGh5YNwN",
        "outputId": "4d893ceb-d0a1-42f5-8fe5-8abb68315b18"
      },
      "source": [
        "x2 = torch.ones(3,2)\n",
        "x2[:, 1] += 1\n",
        "describe(x2)"
      ],
      "execution_count": 137,
      "outputs": [
        {
          "output_type": "stream",
          "text": [
            "Type: torch.FloatTensor\n",
            "Shape/size: torch.Size([3, 2])\n",
            "Values: \n",
            "tensor([[1., 2.],\n",
            "        [1., 2.],\n",
            "        [1., 2.]])\n"
          ],
          "name": "stdout"
        }
      ]
    },
    {
      "cell_type": "code",
      "metadata": {
        "colab": {
          "base_uri": "https://localhost:8080/"
        },
        "id": "qjl-epU5YSCy",
        "outputId": "851d05cd-08c8-41df-f8d9-57ea9cd7fbb0"
      },
      "source": [
        "describe(torch.mm(x1, x2))"
      ],
      "execution_count": 138,
      "outputs": [
        {
          "output_type": "stream",
          "text": [
            "Type: torch.FloatTensor\n",
            "Shape/size: torch.Size([2, 2])\n",
            "Values: \n",
            "tensor([[ 3.,  6.],\n",
            "        [12., 24.]])\n"
          ],
          "name": "stdout"
        }
      ]
    },
    {
      "cell_type": "code",
      "metadata": {
        "colab": {
          "base_uri": "https://localhost:8080/"
        },
        "id": "zljVTE6KYgcw",
        "outputId": "f399d913-c889-4b57-fef9-b55eff5f0577"
      },
      "source": [
        "x = torch.arange(0, 12).view(3,4).float()\n",
        "print(x)"
      ],
      "execution_count": 139,
      "outputs": [
        {
          "output_type": "stream",
          "text": [
            "tensor([[ 0.,  1.,  2.,  3.],\n",
            "        [ 4.,  5.,  6.,  7.],\n",
            "        [ 8.,  9., 10., 11.]])\n"
          ],
          "name": "stdout"
        }
      ]
    },
    {
      "cell_type": "code",
      "metadata": {
        "colab": {
          "base_uri": "https://localhost:8080/"
        },
        "id": "XlafzkkrYq4B",
        "outputId": "fb14ad25-60de-4a28-fd88-f9c88d74eb11"
      },
      "source": [
        "x2 = torch.ones(4, 2)\n",
        "x2[:, 1] += 1\n",
        "print(x2)"
      ],
      "execution_count": 140,
      "outputs": [
        {
          "output_type": "stream",
          "text": [
            "tensor([[1., 2.],\n",
            "        [1., 2.],\n",
            "        [1., 2.],\n",
            "        [1., 2.]])\n"
          ],
          "name": "stdout"
        }
      ]
    },
    {
      "cell_type": "code",
      "metadata": {
        "colab": {
          "base_uri": "https://localhost:8080/"
        },
        "id": "JuO6eMmiYsiu",
        "outputId": "3e78a6bf-885b-456d-f2a2-5ba0c3ccb130"
      },
      "source": [
        "print(x.mm(x2))"
      ],
      "execution_count": 141,
      "outputs": [
        {
          "output_type": "stream",
          "text": [
            "tensor([[ 6., 12.],\n",
            "        [22., 44.],\n",
            "        [38., 76.]])\n"
          ],
          "name": "stdout"
        }
      ]
    },
    {
      "cell_type": "code",
      "metadata": {
        "id": "3ekEGz0ZYwS3"
      },
      "source": [
        ""
      ],
      "execution_count": null,
      "outputs": []
    }
  ]
}