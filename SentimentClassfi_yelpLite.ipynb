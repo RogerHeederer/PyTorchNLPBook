{
  "nbformat": 4,
  "nbformat_minor": 0,
  "metadata": {
    "colab": {
      "name": "SentimentClassfi_yelpLite.ipynb",
      "provenance": [],
      "authorship_tag": "ABX9TyMEO3XimbKBnDIVulFx4Okb",
      "include_colab_link": true
    },
    "kernelspec": {
      "name": "python3",
      "display_name": "Python 3"
    }
  },
  "cells": [
    {
      "cell_type": "markdown",
      "metadata": {
        "id": "view-in-github",
        "colab_type": "text"
      },
      "source": [
        "<a href=\"https://colab.research.google.com/github/RogerHeederer/PyTorchNLPBook/blob/master/SentimentClassfi_yelpLite.ipynb\" target=\"_parent\"><img src=\"https://colab.research.google.com/assets/colab-badge.svg\" alt=\"Open In Colab\"/></a>"
      ]
    },
    {
      "cell_type": "markdown",
      "metadata": {
        "id": "wAC01-Up56LI"
      },
      "source": [
        "##Minimally clean teh data and derive final dataset"
      ]
    },
    {
      "cell_type": "code",
      "metadata": {
        "colab": {
          "base_uri": "https://localhost:8080/"
        },
        "id": "UwLQ9k42nQRH",
        "outputId": "e42572b9-a70d-46ba-9bed-13a845e961f8"
      },
      "source": [
        "from google.colab import drive\n",
        "drive.mount('/content/drive', force_remount=True)"
      ],
      "execution_count": 1,
      "outputs": [
        {
          "output_type": "stream",
          "text": [
            "Mounted at /content/drive\n"
          ],
          "name": "stdout"
        }
      ]
    },
    {
      "cell_type": "code",
      "metadata": {
        "colab": {
          "base_uri": "https://localhost:8080/"
        },
        "id": "yYENrKmMndfm",
        "outputId": "bfb38585-e2a7-4d21-999f-9f54036d98e3"
      },
      "source": [
        "!ls"
      ],
      "execution_count": 2,
      "outputs": [
        {
          "output_type": "stream",
          "text": [
            "drive  sample_data\n"
          ],
          "name": "stdout"
        }
      ]
    },
    {
      "cell_type": "code",
      "metadata": {
        "id": "tNN_jm4Ymd6o"
      },
      "source": [
        "import collections\n",
        "import numpy as np\n",
        "import pandas as pd\n",
        "import re\n",
        "\n",
        "from argparse import Namespace"
      ],
      "execution_count": 3,
      "outputs": []
    },
    {
      "cell_type": "code",
      "metadata": {
        "id": "MnNyX3Pmmqbh"
      },
      "source": [
        "args = Namespace(\n",
        "    raw_train_dataset_csv = \"/content/drive/MyDrive/RogerHeederer/NLPwithPytorch_B/data/dataset/yelp/raw_train.csv\",\n",
        "    raw_test_dataset_csv = \"/content/drive/MyDrive/RogerHeederer/NLPwithPytorch_B/data/dataset/yelp/raw_test.csv\",\n",
        "    proportion_subset_of_train = 0.1,\n",
        "    train_proportion = 0.7,\n",
        "    val_proportion=0.15,\n",
        "    test_proportion=0.15,\n",
        "    output_munged_csv=\"/content/drive/MyDrive/RogerHeederer/NLPwithPytorch_B/data/dataset/yelp/reviews_with_splits_lite.csv\",\n",
        "    seed=1337\n",
        ")"
      ],
      "execution_count": 51,
      "outputs": []
    },
    {
      "cell_type": "code",
      "metadata": {
        "id": "hRN6u3VnovRC"
      },
      "source": [
        "# raw data 읽어오기\n",
        "train_reviews = pd.read_csv(args.raw_train_dataset_csv, header=None, names=['rating', 'review'])"
      ],
      "execution_count": 5,
      "outputs": []
    },
    {
      "cell_type": "markdown",
      "metadata": {
        "id": "GWe3jmqdpF-W"
      },
      "source": [
        "** Lite 데이터 셋에서는 Rating 1은 부정, 2는 긍정 **\n",
        "\n",
        "** FULL 데이터 셋에서는 0,1은 부정. 2,3는 긍정 **"
      ]
    },
    {
      "cell_type": "code",
      "metadata": {
        "colab": {
          "base_uri": "https://localhost:8080/",
          "height": 359
        },
        "id": "3o7dodu9o84y",
        "outputId": "56b44345-3cc5-4436-bd5c-6e3f312df8e7"
      },
      "source": [
        "train_reviews[0:10]"
      ],
      "execution_count": 6,
      "outputs": [
        {
          "output_type": "execute_result",
          "data": {
            "text/html": [
              "<div>\n",
              "<style scoped>\n",
              "    .dataframe tbody tr th:only-of-type {\n",
              "        vertical-align: middle;\n",
              "    }\n",
              "\n",
              "    .dataframe tbody tr th {\n",
              "        vertical-align: top;\n",
              "    }\n",
              "\n",
              "    .dataframe thead th {\n",
              "        text-align: right;\n",
              "    }\n",
              "</style>\n",
              "<table border=\"1\" class=\"dataframe\">\n",
              "  <thead>\n",
              "    <tr style=\"text-align: right;\">\n",
              "      <th></th>\n",
              "      <th>rating</th>\n",
              "      <th>review</th>\n",
              "    </tr>\n",
              "  </thead>\n",
              "  <tbody>\n",
              "    <tr>\n",
              "      <th>0</th>\n",
              "      <td>1</td>\n",
              "      <td>Unfortunately, the frustration of being Dr. Go...</td>\n",
              "    </tr>\n",
              "    <tr>\n",
              "      <th>1</th>\n",
              "      <td>2</td>\n",
              "      <td>Been going to Dr. Goldberg for over 10 years. ...</td>\n",
              "    </tr>\n",
              "    <tr>\n",
              "      <th>2</th>\n",
              "      <td>1</td>\n",
              "      <td>I don't know what Dr. Goldberg was like before...</td>\n",
              "    </tr>\n",
              "    <tr>\n",
              "      <th>3</th>\n",
              "      <td>1</td>\n",
              "      <td>I'm writing this review to give you a heads up...</td>\n",
              "    </tr>\n",
              "    <tr>\n",
              "      <th>4</th>\n",
              "      <td>2</td>\n",
              "      <td>All the food is great here. But the best thing...</td>\n",
              "    </tr>\n",
              "    <tr>\n",
              "      <th>5</th>\n",
              "      <td>1</td>\n",
              "      <td>Wing sauce is like water. Pretty much a lot of...</td>\n",
              "    </tr>\n",
              "    <tr>\n",
              "      <th>6</th>\n",
              "      <td>1</td>\n",
              "      <td>Owning a driving range inside the city limits ...</td>\n",
              "    </tr>\n",
              "    <tr>\n",
              "      <th>7</th>\n",
              "      <td>1</td>\n",
              "      <td>This place is absolute garbage...  Half of the...</td>\n",
              "    </tr>\n",
              "    <tr>\n",
              "      <th>8</th>\n",
              "      <td>2</td>\n",
              "      <td>Before I finally made it over to this range I ...</td>\n",
              "    </tr>\n",
              "    <tr>\n",
              "      <th>9</th>\n",
              "      <td>2</td>\n",
              "      <td>I drove by yesterday to get a sneak peak.  It ...</td>\n",
              "    </tr>\n",
              "  </tbody>\n",
              "</table>\n",
              "</div>"
            ],
            "text/plain": [
              "   rating                                             review\n",
              "0       1  Unfortunately, the frustration of being Dr. Go...\n",
              "1       2  Been going to Dr. Goldberg for over 10 years. ...\n",
              "2       1  I don't know what Dr. Goldberg was like before...\n",
              "3       1  I'm writing this review to give you a heads up...\n",
              "4       2  All the food is great here. But the best thing...\n",
              "5       1  Wing sauce is like water. Pretty much a lot of...\n",
              "6       1  Owning a driving range inside the city limits ...\n",
              "7       1  This place is absolute garbage...  Half of the...\n",
              "8       2  Before I finally made it over to this range I ...\n",
              "9       2  I drove by yesterday to get a sneak peak.  It ..."
            ]
          },
          "metadata": {
            "tags": []
          },
          "execution_count": 6
        }
      ]
    },
    {
      "cell_type": "code",
      "metadata": {
        "colab": {
          "base_uri": "https://localhost:8080/"
        },
        "id": "cyYzmbqIpBHe",
        "outputId": "b0a3bd9b-04f7-4f6b-8ce8-08aa8b4f57ab"
      },
      "source": [
        "by_rating = collections.defaultdict(list)\n",
        "by_rating"
      ],
      "execution_count": 7,
      "outputs": [
        {
          "output_type": "execute_result",
          "data": {
            "text/plain": [
              "defaultdict(list, {})"
            ]
          },
          "metadata": {
            "tags": []
          },
          "execution_count": 7
        }
      ]
    },
    {
      "cell_type": "code",
      "metadata": {
        "id": "gY1ALCUkplnt"
      },
      "source": [
        "# rating을 key값으로 묶어서, review를 붙여버림\n",
        "for _, row in train_reviews.iterrows():\n",
        "    by_rating[row.rating].append(row.to_dict())"
      ],
      "execution_count": 8,
      "outputs": []
    },
    {
      "cell_type": "code",
      "metadata": {
        "colab": {
          "base_uri": "https://localhost:8080/"
        },
        "id": "7Up26S0Jp8Xt",
        "outputId": "a3f73a40-2cfd-4f49-cf8d-8d9033a5fe5d"
      },
      "source": [
        "by_rating[1][0:5]"
      ],
      "execution_count": 9,
      "outputs": [
        {
          "output_type": "execute_result",
          "data": {
            "text/plain": [
              "[{'rating': 1,\n",
              "  'review': \"Unfortunately, the frustration of being Dr. Goldberg's patient is a repeat of the experience I've had with so many other doctors in NYC -- good doctor, terrible staff.  It seems that his staff simply never answers the phone.  It usually takes 2 hours of repeated calling to get an answer.  Who has time for that or wants to deal with it?  I have run into this problem with many other doctors and I just don't get it.  You have office workers, you have patients with medical needs, why isn't anyone answering the phone?  It's incomprehensible and not work the aggravation.  It's with regret that I feel that I have to give Dr. Goldberg 2 stars.\"},\n",
              " {'rating': 1,\n",
              "  'review': \"I don't know what Dr. Goldberg was like before  moving to Arizona, but let me tell you, STAY AWAY from this doctor and this office. I was going to Dr. Johnson before he left and Goldberg took over when Johnson left. He is not a caring doctor. He is only interested in the co-pay and having you come in for medication refills every month. He will not give refills and could less about patients's financial situations. Trying to get your 90 days mail away pharmacy prescriptions through this guy is a joke. And to make matters even worse, his office staff is incompetent. 90% of the time when you call the office, they'll put you through to a voice mail, that NO ONE ever answers or returns your call. Both my adult children and husband have decided to leave this practice after experiencing such frustration. The entire office has an attitude like they are doing you a favor. Give me a break! Stay away from this doc and the practice. You deserve better and they will not be there when you really need them. I have never felt compelled to write a bad review about anyone until I met this pathetic excuse for a doctor who is all about the money.\"},\n",
              " {'rating': 1,\n",
              "  'review': \"I'm writing this review to give you a heads up before you see this Doctor. The office staff and administration are very unprofessional. I left a message with multiple people regarding my bill, and no one ever called me back. I had to hound them to get an answer about my bill. \\\\n\\\\nSecond, and most important, make sure your insurance is going to cover Dr. Goldberg's visits and blood work. He recommended to me that I get a physical, and he knew I was a student because I told him. I got the physical done. Later, I found out my health insurance doesn't pay for preventative visits. I received an $800.00 bill for the blood work. I can't pay for my bill because I'm a student and don't have any cash flow at this current time. I can't believe the Doctor wouldn't give me a heads up to make sure my insurance would cover work that wasn't necessary and was strictly preventative. The office can't do anything to help me cover the bill. In addition, the office staff said the onus is on me to make sure my insurance covers visits. Frustrating situation!\"},\n",
              " {'rating': 1,\n",
              "  'review': 'Wing sauce is like water. Pretty much a lot of butter and some hot sauce (franks red hot maybe).  The whole wings are good size and crispy, but for $1 a wing the sauce could be better. The hot and extra hot are about the same flavor/heat.  The fish sandwich is good and is a large portion, sides are decent.'},\n",
              " {'rating': 1,\n",
              "  'review': \"Owning a driving range inside the city limits is like a license to print money.  I don't think I ask much out of a driving range.  Decent mats, clean balls and accessible hours.  Hell you need even less people now with the advent of the machine that doles out the balls.  This place has none of them.  It is april and there are no grass tees yet.  BTW they opened for the season this week although it has been golfing weather for a month.  The mats look like the carpet at my 107 year old aunt Irene's house.  Worn and thread bare.  Let's talk about the hours.  This place is equipped with lights yet they only sell buckets of balls until 730.  It is still light out.  Finally lets you have the pit to hit into.  When I arrived I wasn't sure if this was a driving range or an excavation site for a mastodon or a strip mining operation.  There is no grass on the range. Just mud.  Makes it a good tool to figure out how far you actually are hitting the ball.  Oh, they are cash only also.\\\\n\\\\nBottom line, this place sucks.  The best hope is that the owner sells it to someone that actually wants to make money and service golfers in Pittsburgh.\"}]"
            ]
          },
          "metadata": {
            "tags": []
          },
          "execution_count": 9
        }
      ]
    },
    {
      "cell_type": "code",
      "metadata": {
        "colab": {
          "base_uri": "https://localhost:8080/"
        },
        "id": "62m1e_aNr1N3",
        "outputId": "0e139e77-f0b5-47ba-c0c1-6eaed061c1ff"
      },
      "source": [
        "by_rating[2][0:5]"
      ],
      "execution_count": 11,
      "outputs": [
        {
          "output_type": "execute_result",
          "data": {
            "text/plain": [
              "[{'rating': 2,\n",
              "  'review': \"Been going to Dr. Goldberg for over 10 years. I think I was one of his 1st patients when he started at MHMG. He's been great over the years and is really all about the big picture. It is because of him, not my now former gyn Dr. Markoff, that I found out I have fibroids. He explores all options with you and is very patient and understanding. He doesn't judge and asks all the right questions. Very thorough and wants to be kept in the loop on every aspect of your medical health and your life.\"},\n",
              " {'rating': 2,\n",
              "  'review': 'All the food is great here. But the best thing they have is their wings. Their wings are simply fantastic!!  The \\\\\"Wet Cajun\\\\\" are by the best & most popular.  I also like the seasoned salt wings.  Wing Night is Monday & Wednesday night, $0.75 whole wings!\\\\n\\\\nThe dining area is nice. Very family friendly! The bar is very nice is well.  This place is truly a Yinzer\\'s dream!!  \\\\\"Pittsburgh Dad\\\\\" would love this place n\\'at!!'},\n",
              " {'rating': 2,\n",
              "  'review': \"Before I finally made it over to this range I heard the same thing from most people - it's just fine to go work on your swing. I had such a low expectation I was pleasantly surprised. \\\\n\\\\nIt's a fairly big range - if you are familiar with Scally's in Moon, it seems like it has almost as many tees, though its not nearly as nice a facility. \\\\n\\\\nThe guys in the pro shop were two of the friendlier guys I've come across at ranges or at courses. Yards were indeed marked and there are some targets to aim for, and even some hazards to aim away from. \\\\n\\\\nA big red flag to me was the extra charge ($3) to hit off the grass. I am no range expert, but this is the 4th one I've been to and the first I've seen of that sort of nickel and diming....\\\\n\\\\nPrice for the golf balls was reasonable and I do plan to be back every week until they close up in October for the season. Hopefully, since its for sale, it will reopen as a golf facility again.\"},\n",
              " {'rating': 2,\n",
              "  'review': \"I drove by yesterday to get a sneak peak.  It re-opens on July 14th and I can't wait to take my kids.  The new range looks amazing.  The entire range appears to be turf, which may or many not help your game, but it looks really nice.  The tee boxes look state of the art and the club house looks like something you'll see on a newer course.  Can't wait to experience it!\"},\n",
              " {'rating': 2,\n",
              "  'review': \"Wonderful reuben.  Map shown on Yelp page is incorrect. It is actually a different Hawkins.  I'd recommend a call for directions 412-271-9911.\"}]"
            ]
          },
          "metadata": {
            "tags": []
          },
          "execution_count": 11
        }
      ]
    },
    {
      "cell_type": "code",
      "metadata": {
        "id": "sBBatgA_qZc6",
        "colab": {
          "base_uri": "https://localhost:8080/"
        },
        "outputId": "cc2c28d0-2ceb-45ee-cbc6-aaaba235ffcb"
      },
      "source": [
        "by_rating.keys()"
      ],
      "execution_count": 10,
      "outputs": [
        {
          "output_type": "execute_result",
          "data": {
            "text/plain": [
              "dict_keys([1, 2])"
            ]
          },
          "metadata": {
            "tags": []
          },
          "execution_count": 10
        }
      ]
    },
    {
      "cell_type": "code",
      "metadata": {
        "id": "ylazfO7XrJN5"
      },
      "source": [
        "review_subset = []\n",
        "#dict.items()는 key와 value를 _, item_list로 올려줌.\n",
        "#dict 반복문에서 key만 뽑고자 하면, for key in by_rating\n",
        "#dict 반복문에서 value만 뽑고자 하면, for val in by_rating.values()\n",
        "for _, item_list in sorted(by_rating.items()): \n",
        "    n_total = len(item_list)\n",
        "    n_subset = int(args.proportion_subset_of_train * n_total)\n",
        "    review_subset.extend(item_list[:n_subset]) # 0부터 27999까지 따로 review_subset으로 담는다"
      ],
      "execution_count": 16,
      "outputs": []
    },
    {
      "cell_type": "code",
      "metadata": {
        "colab": {
          "base_uri": "https://localhost:8080/"
        },
        "id": "9e0bgX34smoD",
        "outputId": "0b84fd8e-d2c7-4f19-a0af-8776e44673b6"
      },
      "source": [
        "print(n_total, n_subset)"
      ],
      "execution_count": 17,
      "outputs": [
        {
          "output_type": "stream",
          "text": [
            "280000 28000\n"
          ],
          "name": "stdout"
        }
      ]
    },
    {
      "cell_type": "code",
      "metadata": {
        "colab": {
          "base_uri": "https://localhost:8080/"
        },
        "id": "c_hpZuovtR-E",
        "outputId": "032eefcc-2aba-482c-dd3a-3cdf6b57c584"
      },
      "source": [
        "review_subset[0:5]"
      ],
      "execution_count": 20,
      "outputs": [
        {
          "output_type": "execute_result",
          "data": {
            "text/plain": [
              "[{'rating': 1,\n",
              "  'review': \"Unfortunately, the frustration of being Dr. Goldberg's patient is a repeat of the experience I've had with so many other doctors in NYC -- good doctor, terrible staff.  It seems that his staff simply never answers the phone.  It usually takes 2 hours of repeated calling to get an answer.  Who has time for that or wants to deal with it?  I have run into this problem with many other doctors and I just don't get it.  You have office workers, you have patients with medical needs, why isn't anyone answering the phone?  It's incomprehensible and not work the aggravation.  It's with regret that I feel that I have to give Dr. Goldberg 2 stars.\"},\n",
              " {'rating': 1,\n",
              "  'review': \"I don't know what Dr. Goldberg was like before  moving to Arizona, but let me tell you, STAY AWAY from this doctor and this office. I was going to Dr. Johnson before he left and Goldberg took over when Johnson left. He is not a caring doctor. He is only interested in the co-pay and having you come in for medication refills every month. He will not give refills and could less about patients's financial situations. Trying to get your 90 days mail away pharmacy prescriptions through this guy is a joke. And to make matters even worse, his office staff is incompetent. 90% of the time when you call the office, they'll put you through to a voice mail, that NO ONE ever answers or returns your call. Both my adult children and husband have decided to leave this practice after experiencing such frustration. The entire office has an attitude like they are doing you a favor. Give me a break! Stay away from this doc and the practice. You deserve better and they will not be there when you really need them. I have never felt compelled to write a bad review about anyone until I met this pathetic excuse for a doctor who is all about the money.\"},\n",
              " {'rating': 1,\n",
              "  'review': \"I'm writing this review to give you a heads up before you see this Doctor. The office staff and administration are very unprofessional. I left a message with multiple people regarding my bill, and no one ever called me back. I had to hound them to get an answer about my bill. \\\\n\\\\nSecond, and most important, make sure your insurance is going to cover Dr. Goldberg's visits and blood work. He recommended to me that I get a physical, and he knew I was a student because I told him. I got the physical done. Later, I found out my health insurance doesn't pay for preventative visits. I received an $800.00 bill for the blood work. I can't pay for my bill because I'm a student and don't have any cash flow at this current time. I can't believe the Doctor wouldn't give me a heads up to make sure my insurance would cover work that wasn't necessary and was strictly preventative. The office can't do anything to help me cover the bill. In addition, the office staff said the onus is on me to make sure my insurance covers visits. Frustrating situation!\"},\n",
              " {'rating': 1,\n",
              "  'review': 'Wing sauce is like water. Pretty much a lot of butter and some hot sauce (franks red hot maybe).  The whole wings are good size and crispy, but for $1 a wing the sauce could be better. The hot and extra hot are about the same flavor/heat.  The fish sandwich is good and is a large portion, sides are decent.'},\n",
              " {'rating': 1,\n",
              "  'review': \"Owning a driving range inside the city limits is like a license to print money.  I don't think I ask much out of a driving range.  Decent mats, clean balls and accessible hours.  Hell you need even less people now with the advent of the machine that doles out the balls.  This place has none of them.  It is april and there are no grass tees yet.  BTW they opened for the season this week although it has been golfing weather for a month.  The mats look like the carpet at my 107 year old aunt Irene's house.  Worn and thread bare.  Let's talk about the hours.  This place is equipped with lights yet they only sell buckets of balls until 730.  It is still light out.  Finally lets you have the pit to hit into.  When I arrived I wasn't sure if this was a driving range or an excavation site for a mastodon or a strip mining operation.  There is no grass on the range. Just mud.  Makes it a good tool to figure out how far you actually are hitting the ball.  Oh, they are cash only also.\\\\n\\\\nBottom line, this place sucks.  The best hope is that the owner sells it to someone that actually wants to make money and service golfers in Pittsburgh.\"}]"
            ]
          },
          "metadata": {
            "tags": []
          },
          "execution_count": 20
        }
      ]
    },
    {
      "cell_type": "code",
      "metadata": {
        "colab": {
          "base_uri": "https://localhost:8080/",
          "height": 204
        },
        "id": "Z5-MZznKt2Tl",
        "outputId": "d072ad44-e624-4216-fa31-f26fac4d8a82"
      },
      "source": [
        "review_subset = pd.DataFrame(review_subset)\n",
        "review_subset.head()"
      ],
      "execution_count": 21,
      "outputs": [
        {
          "output_type": "execute_result",
          "data": {
            "text/html": [
              "<div>\n",
              "<style scoped>\n",
              "    .dataframe tbody tr th:only-of-type {\n",
              "        vertical-align: middle;\n",
              "    }\n",
              "\n",
              "    .dataframe tbody tr th {\n",
              "        vertical-align: top;\n",
              "    }\n",
              "\n",
              "    .dataframe thead th {\n",
              "        text-align: right;\n",
              "    }\n",
              "</style>\n",
              "<table border=\"1\" class=\"dataframe\">\n",
              "  <thead>\n",
              "    <tr style=\"text-align: right;\">\n",
              "      <th></th>\n",
              "      <th>rating</th>\n",
              "      <th>review</th>\n",
              "    </tr>\n",
              "  </thead>\n",
              "  <tbody>\n",
              "    <tr>\n",
              "      <th>0</th>\n",
              "      <td>1</td>\n",
              "      <td>Unfortunately, the frustration of being Dr. Go...</td>\n",
              "    </tr>\n",
              "    <tr>\n",
              "      <th>1</th>\n",
              "      <td>1</td>\n",
              "      <td>I don't know what Dr. Goldberg was like before...</td>\n",
              "    </tr>\n",
              "    <tr>\n",
              "      <th>2</th>\n",
              "      <td>1</td>\n",
              "      <td>I'm writing this review to give you a heads up...</td>\n",
              "    </tr>\n",
              "    <tr>\n",
              "      <th>3</th>\n",
              "      <td>1</td>\n",
              "      <td>Wing sauce is like water. Pretty much a lot of...</td>\n",
              "    </tr>\n",
              "    <tr>\n",
              "      <th>4</th>\n",
              "      <td>1</td>\n",
              "      <td>Owning a driving range inside the city limits ...</td>\n",
              "    </tr>\n",
              "  </tbody>\n",
              "</table>\n",
              "</div>"
            ],
            "text/plain": [
              "   rating                                             review\n",
              "0       1  Unfortunately, the frustration of being Dr. Go...\n",
              "1       1  I don't know what Dr. Goldberg was like before...\n",
              "2       1  I'm writing this review to give you a heads up...\n",
              "3       1  Wing sauce is like water. Pretty much a lot of...\n",
              "4       1  Owning a driving range inside the city limits ..."
            ]
          },
          "metadata": {
            "tags": []
          },
          "execution_count": 21
        }
      ]
    },
    {
      "cell_type": "code",
      "metadata": {
        "colab": {
          "base_uri": "https://localhost:8080/"
        },
        "id": "wpHcy4EXuMou",
        "outputId": "9e2352ba-04f0-429d-a14d-794f11c5e677"
      },
      "source": [
        "train_reviews.rating.value_counts()"
      ],
      "execution_count": 22,
      "outputs": [
        {
          "output_type": "execute_result",
          "data": {
            "text/plain": [
              "2    280000\n",
              "1    280000\n",
              "Name: rating, dtype: int64"
            ]
          },
          "metadata": {
            "tags": []
          },
          "execution_count": 22
        }
      ]
    },
    {
      "cell_type": "code",
      "metadata": {
        "colab": {
          "base_uri": "https://localhost:8080/"
        },
        "id": "X9wrliGkug_m",
        "outputId": "21fe1e30-3d7e-46ff-c855-a34e47e40166"
      },
      "source": [
        "# train_reviews에서 딱 10% 담아냄\n",
        "review_subset.rating.value_counts()"
      ],
      "execution_count": 23,
      "outputs": [
        {
          "output_type": "execute_result",
          "data": {
            "text/plain": [
              "2    28000\n",
              "1    28000\n",
              "Name: rating, dtype: int64"
            ]
          },
          "metadata": {
            "tags": []
          },
          "execution_count": 23
        }
      ]
    },
    {
      "cell_type": "code",
      "metadata": {
        "colab": {
          "base_uri": "https://localhost:8080/"
        },
        "id": "PMxB8rRoulfR",
        "outputId": "c8b70d65-e39e-4f16-b1f3-310f71fa53ea"
      },
      "source": [
        "#중복제거하고 평가 레이팅 점수 갯수 구함\n",
        "set(review_subset.rating)"
      ],
      "execution_count": 24,
      "outputs": [
        {
          "output_type": "execute_result",
          "data": {
            "text/plain": [
              "{1, 2}"
            ]
          },
          "metadata": {
            "tags": []
          },
          "execution_count": 24
        }
      ]
    },
    {
      "cell_type": "code",
      "metadata": {
        "id": "CTctQhzsuvcZ"
      },
      "source": [
        "#28000개 데이터를 가지고 있는 subset을 train, val, test 데이터를 나누는 작업 진행\n",
        "by_rating = collections.defaultdict(list)\n",
        "for _, row in review_subset.iterrows():\n",
        "    by_rating[row.rating].append(row.to_dict())"
      ],
      "execution_count": 25,
      "outputs": []
    },
    {
      "cell_type": "code",
      "metadata": {
        "colab": {
          "base_uri": "https://localhost:8080/"
        },
        "id": "hlb0gMFrvdZe",
        "outputId": "8aecd55a-4e48-45ac-aae7-6b343b42a244"
      },
      "source": [
        "by_rating[2][:5]"
      ],
      "execution_count": 27,
      "outputs": [
        {
          "output_type": "execute_result",
          "data": {
            "text/plain": [
              "[{'rating': 2,\n",
              "  'review': \"Been going to Dr. Goldberg for over 10 years. I think I was one of his 1st patients when he started at MHMG. He's been great over the years and is really all about the big picture. It is because of him, not my now former gyn Dr. Markoff, that I found out I have fibroids. He explores all options with you and is very patient and understanding. He doesn't judge and asks all the right questions. Very thorough and wants to be kept in the loop on every aspect of your medical health and your life.\"},\n",
              " {'rating': 2,\n",
              "  'review': 'All the food is great here. But the best thing they have is their wings. Their wings are simply fantastic!!  The \\\\\"Wet Cajun\\\\\" are by the best & most popular.  I also like the seasoned salt wings.  Wing Night is Monday & Wednesday night, $0.75 whole wings!\\\\n\\\\nThe dining area is nice. Very family friendly! The bar is very nice is well.  This place is truly a Yinzer\\'s dream!!  \\\\\"Pittsburgh Dad\\\\\" would love this place n\\'at!!'},\n",
              " {'rating': 2,\n",
              "  'review': \"Before I finally made it over to this range I heard the same thing from most people - it's just fine to go work on your swing. I had such a low expectation I was pleasantly surprised. \\\\n\\\\nIt's a fairly big range - if you are familiar with Scally's in Moon, it seems like it has almost as many tees, though its not nearly as nice a facility. \\\\n\\\\nThe guys in the pro shop were two of the friendlier guys I've come across at ranges or at courses. Yards were indeed marked and there are some targets to aim for, and even some hazards to aim away from. \\\\n\\\\nA big red flag to me was the extra charge ($3) to hit off the grass. I am no range expert, but this is the 4th one I've been to and the first I've seen of that sort of nickel and diming....\\\\n\\\\nPrice for the golf balls was reasonable and I do plan to be back every week until they close up in October for the season. Hopefully, since its for sale, it will reopen as a golf facility again.\"},\n",
              " {'rating': 2,\n",
              "  'review': \"I drove by yesterday to get a sneak peak.  It re-opens on July 14th and I can't wait to take my kids.  The new range looks amazing.  The entire range appears to be turf, which may or many not help your game, but it looks really nice.  The tee boxes look state of the art and the club house looks like something you'll see on a newer course.  Can't wait to experience it!\"},\n",
              " {'rating': 2,\n",
              "  'review': \"Wonderful reuben.  Map shown on Yelp page is incorrect. It is actually a different Hawkins.  I'd recommend a call for directions 412-271-9911.\"}]"
            ]
          },
          "metadata": {
            "tags": []
          },
          "execution_count": 27
        }
      ]
    },
    {
      "cell_type": "code",
      "metadata": {
        "id": "PCAfACNKvfz2"
      },
      "source": [
        "final_list = []\n",
        "np.random.seed(args.seed)"
      ],
      "execution_count": 28,
      "outputs": []
    },
    {
      "cell_type": "code",
      "metadata": {
        "id": "5KA22wbgvj0_"
      },
      "source": [
        "for _, item_list in sorted(by_rating.items()):\n",
        "    np.random.shuffle(item_list)# 데이터 쪼개기 전에 한번 섞어주고\n",
        "\n",
        "    n_total = len(item_list)\n",
        "    #각각 정한 포션별로 데이터 분배\n",
        "    n_train = int(args.train_proportion * n_total)\n",
        "    n_val = int(args.val_proportion * n_total)\n",
        "    n_test = int(args.test_proportion * n_total)\n",
        "\n",
        "    #데이터 포인트에게 split attribute 부여\n",
        "    for item in item_list[:n_train]:\n",
        "        item['split'] = 'train'\n",
        "    for item in item_list[n_train:n_train+n_val]:\n",
        "        item['split'] = 'val'\n",
        "    for item in item_list[n_train+n_val:n_train+n_val+n_test]:\n",
        "        item['split'] = 'test'\n",
        "\n",
        "    final_list.extend(item_list)"
      ],
      "execution_count": 30,
      "outputs": []
    },
    {
      "cell_type": "code",
      "metadata": {
        "colab": {
          "base_uri": "https://localhost:8080/"
        },
        "id": "2ItrRnLBxfhM",
        "outputId": "97ab8e1d-7e54-4c26-b373-597c6606938b"
      },
      "source": [
        "final_list[9999], final_list[20000], final_list[27000]"
      ],
      "execution_count": 36,
      "outputs": [
        {
          "output_type": "execute_result",
          "data": {
            "text/plain": [
              "({'rating': 1,\n",
              "  'review': 'Place is avg.  Sushi was good but the red sangria saki was bad. Service was sporadic and we had a one plate that they forgot to put the sauce on, and another couple plates they tried to give us which we did not order.   I would try to find another place.',\n",
              "  'split': 'train'},\n",
              " {'rating': 1,\n",
              "  'review': \"I'm only giving one star because I have too. I have been coming to this car wash for years and I've always thought highly of this place and the owner. I referred my good friend to this place for a mini detail, and payed for it myself to show him how good this place is. When he picked up his car they jammed his key in the ignition and could not get it out. They took no responsibility for it and the owner told us it's not her problem. Then when we took it to honda to get fixed, they informed us they got a sensor wet underneath the shifting council and now that needs to be replaced as well. I am definitely taking them to court.\",\n",
              "  'split': 'val'},\n",
              " {'rating': 1,\n",
              "  'review': \"Been here a handful of times throughout  the years.Last night was my most recent visit. I was in the mood for noodles something..we started off with the app of potstickers in an extremely spicy broth. Holy crap this is extremely spicy hence the name of the dish. \\\\n\\\\nI ordered a beef udon dish with veggies and udon.. it was okay.\\\\nhusband had chicken parm. Shocker! prob wont be back for awhile spent $40 bux and had better at YC's Mongolian today : )\",\n",
              "  'split': 'test'})"
            ]
          },
          "metadata": {
            "tags": []
          },
          "execution_count": 36
        }
      ]
    },
    {
      "cell_type": "code",
      "metadata": {
        "id": "MpKqfJQaxrCx"
      },
      "source": [
        "final_reviews = pd.DataFrame(final_list)"
      ],
      "execution_count": 44,
      "outputs": []
    },
    {
      "cell_type": "code",
      "metadata": {
        "colab": {
          "base_uri": "https://localhost:8080/"
        },
        "id": "gGP_gEDW3eOr",
        "outputId": "3a51426f-9f95-4406-cb69-570eb770eb44"
      },
      "source": [
        "final_reviews.split.value_counts()"
      ],
      "execution_count": 45,
      "outputs": [
        {
          "output_type": "execute_result",
          "data": {
            "text/plain": [
              "train    39200\n",
              "test      8400\n",
              "val       8400\n",
              "Name: split, dtype: int64"
            ]
          },
          "metadata": {
            "tags": []
          },
          "execution_count": 45
        }
      ]
    },
    {
      "cell_type": "markdown",
      "metadata": {
        "id": "41arLd8j36AM"
      },
      "source": [
        "전처리 함수를 이렇게 데이터에 적용시키는 건 처음 봄. 이렇게도 되는군"
      ]
    },
    {
      "cell_type": "code",
      "metadata": {
        "id": "8e9bbET13lvW"
      },
      "source": [
        "def preprocess_text(text):\n",
        "    text = text.lower()\n",
        "    text = re.sub(r\"([.,!?])\", r\" \\1 \", text)\n",
        "    text = re.sub(r\"[^a-zA-Z.,!?]+\", r\" \", text)\n",
        "    return text\n",
        "\n",
        "final_reviews.review = final_reviews.review.apply(preprocess_text)"
      ],
      "execution_count": 46,
      "outputs": []
    },
    {
      "cell_type": "code",
      "metadata": {
        "colab": {
          "base_uri": "https://localhost:8080/",
          "height": 359
        },
        "id": "bIx5jH7P3zO5",
        "outputId": "a9d5a9bf-970a-4029-afba-b56b725dde88"
      },
      "source": [
        "final_reviews[0:10]"
      ],
      "execution_count": 47,
      "outputs": [
        {
          "output_type": "execute_result",
          "data": {
            "text/html": [
              "<div>\n",
              "<style scoped>\n",
              "    .dataframe tbody tr th:only-of-type {\n",
              "        vertical-align: middle;\n",
              "    }\n",
              "\n",
              "    .dataframe tbody tr th {\n",
              "        vertical-align: top;\n",
              "    }\n",
              "\n",
              "    .dataframe thead th {\n",
              "        text-align: right;\n",
              "    }\n",
              "</style>\n",
              "<table border=\"1\" class=\"dataframe\">\n",
              "  <thead>\n",
              "    <tr style=\"text-align: right;\">\n",
              "      <th></th>\n",
              "      <th>rating</th>\n",
              "      <th>review</th>\n",
              "      <th>split</th>\n",
              "    </tr>\n",
              "  </thead>\n",
              "  <tbody>\n",
              "    <tr>\n",
              "      <th>0</th>\n",
              "      <td>1</td>\n",
              "      <td>ordered my usual peanut butter cup smoothie . ...</td>\n",
              "      <td>train</td>\n",
              "    </tr>\n",
              "    <tr>\n",
              "      <th>1</th>\n",
              "      <td>1</td>\n",
              "      <td>i love a good chicken sandwich and ordered two...</td>\n",
              "      <td>train</td>\n",
              "    </tr>\n",
              "    <tr>\n",
              "      <th>2</th>\n",
              "      <td>1</td>\n",
              "      <td>don t think i ll be back . i just get the feel...</td>\n",
              "      <td>train</td>\n",
              "    </tr>\n",
              "    <tr>\n",
              "      <th>3</th>\n",
              "      <td>1</td>\n",
              "      <td>steak was cooked good but even though it was a...</td>\n",
              "      <td>train</td>\n",
              "    </tr>\n",
              "    <tr>\n",
              "      <th>4</th>\n",
              "      <td>1</td>\n",
              "      <td>the concept of this place is pretty neat , but...</td>\n",
              "      <td>train</td>\n",
              "    </tr>\n",
              "    <tr>\n",
              "      <th>5</th>\n",
              "      <td>1</td>\n",
              "      <td>this was for carry out . the women up front we...</td>\n",
              "      <td>train</td>\n",
              "    </tr>\n",
              "    <tr>\n",
              "      <th>6</th>\n",
              "      <td>1</td>\n",
              "      <td>was taken here for moms day , we got right in ...</td>\n",
              "      <td>train</td>\n",
              "    </tr>\n",
              "    <tr>\n",
              "      <th>7</th>\n",
              "      <td>1</td>\n",
              "      <td>yuck ! n nit s almost embarrassing having this...</td>\n",
              "      <td>train</td>\n",
              "    </tr>\n",
              "    <tr>\n",
              "      <th>8</th>\n",
              "      <td>1</td>\n",
              "      <td>don t bother if you care about customer servic...</td>\n",
              "      <td>train</td>\n",
              "    </tr>\n",
              "    <tr>\n",
              "      <th>9</th>\n",
              "      <td>1</td>\n",
              "      <td>really , the only redeeming quality of this ga...</td>\n",
              "      <td>train</td>\n",
              "    </tr>\n",
              "  </tbody>\n",
              "</table>\n",
              "</div>"
            ],
            "text/plain": [
              "   rating                                             review  split\n",
              "0       1  ordered my usual peanut butter cup smoothie . ...  train\n",
              "1       1  i love a good chicken sandwich and ordered two...  train\n",
              "2       1  don t think i ll be back . i just get the feel...  train\n",
              "3       1  steak was cooked good but even though it was a...  train\n",
              "4       1  the concept of this place is pretty neat , but...  train\n",
              "5       1  this was for carry out . the women up front we...  train\n",
              "6       1  was taken here for moms day , we got right in ...  train\n",
              "7       1  yuck ! n nit s almost embarrassing having this...  train\n",
              "8       1  don t bother if you care about customer servic...  train\n",
              "9       1  really , the only redeeming quality of this ga...  train"
            ]
          },
          "metadata": {
            "tags": []
          },
          "execution_count": 47
        }
      ]
    },
    {
      "cell_type": "code",
      "metadata": {
        "id": "0EC7NuMZ4ALI"
      },
      "source": [
        "final_reviews['rating'] = final_reviews.rating.apply({1:'negative', 2:'positive'}.get)"
      ],
      "execution_count": 48,
      "outputs": []
    },
    {
      "cell_type": "code",
      "metadata": {
        "colab": {
          "base_uri": "https://localhost:8080/",
          "height": 204
        },
        "id": "FcKa5HeD4fRx",
        "outputId": "9d444ce1-db55-41da-c5d9-ba33ae397c96"
      },
      "source": [
        "final_reviews.head()"
      ],
      "execution_count": 49,
      "outputs": [
        {
          "output_type": "execute_result",
          "data": {
            "text/html": [
              "<div>\n",
              "<style scoped>\n",
              "    .dataframe tbody tr th:only-of-type {\n",
              "        vertical-align: middle;\n",
              "    }\n",
              "\n",
              "    .dataframe tbody tr th {\n",
              "        vertical-align: top;\n",
              "    }\n",
              "\n",
              "    .dataframe thead th {\n",
              "        text-align: right;\n",
              "    }\n",
              "</style>\n",
              "<table border=\"1\" class=\"dataframe\">\n",
              "  <thead>\n",
              "    <tr style=\"text-align: right;\">\n",
              "      <th></th>\n",
              "      <th>rating</th>\n",
              "      <th>review</th>\n",
              "      <th>split</th>\n",
              "    </tr>\n",
              "  </thead>\n",
              "  <tbody>\n",
              "    <tr>\n",
              "      <th>0</th>\n",
              "      <td>negative</td>\n",
              "      <td>ordered my usual peanut butter cup smoothie . ...</td>\n",
              "      <td>train</td>\n",
              "    </tr>\n",
              "    <tr>\n",
              "      <th>1</th>\n",
              "      <td>negative</td>\n",
              "      <td>i love a good chicken sandwich and ordered two...</td>\n",
              "      <td>train</td>\n",
              "    </tr>\n",
              "    <tr>\n",
              "      <th>2</th>\n",
              "      <td>negative</td>\n",
              "      <td>don t think i ll be back . i just get the feel...</td>\n",
              "      <td>train</td>\n",
              "    </tr>\n",
              "    <tr>\n",
              "      <th>3</th>\n",
              "      <td>negative</td>\n",
              "      <td>steak was cooked good but even though it was a...</td>\n",
              "      <td>train</td>\n",
              "    </tr>\n",
              "    <tr>\n",
              "      <th>4</th>\n",
              "      <td>negative</td>\n",
              "      <td>the concept of this place is pretty neat , but...</td>\n",
              "      <td>train</td>\n",
              "    </tr>\n",
              "  </tbody>\n",
              "</table>\n",
              "</div>"
            ],
            "text/plain": [
              "     rating                                             review  split\n",
              "0  negative  ordered my usual peanut butter cup smoothie . ...  train\n",
              "1  negative  i love a good chicken sandwich and ordered two...  train\n",
              "2  negative  don t think i ll be back . i just get the feel...  train\n",
              "3  negative  steak was cooked good but even though it was a...  train\n",
              "4  negative  the concept of this place is pretty neat , but...  train"
            ]
          },
          "metadata": {
            "tags": []
          },
          "execution_count": 49
        }
      ]
    },
    {
      "cell_type": "code",
      "metadata": {
        "id": "Dj-2VhDK4hKc"
      },
      "source": [
        "# final_reviews 파일 내보내기\n",
        "final_reviews.to_csv(args.output_munged_csv, index=False)"
      ],
      "execution_count": 52,
      "outputs": []
    }
  ]
}